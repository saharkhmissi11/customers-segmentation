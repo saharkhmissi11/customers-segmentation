{
 "cells": [
  {
   "cell_type": "markdown",
   "id": "bbaf8f93",
   "metadata": {},
   "source": [
    "# importing dependencies"
   ]
  },
  {
   "cell_type": "code",
   "execution_count": 147,
   "id": "79f5ee31",
   "metadata": {},
   "outputs": [],
   "source": [
    "import numpy as np\n",
    "import pandas as pd\n",
    "import datetime\n",
    "import matplotlib\n",
    "import matplotlib.pyplot as plt\n",
    "import seaborn as sns\n",
    "from sklearn.cluster import KMeans\n",
    "from sklearn.preprocessing import LabelEncoder\n",
    "from sklearn.preprocessing import StandardScaler"
   ]
  },
  {
   "cell_type": "markdown",
   "id": "adc49943",
   "metadata": {},
   "source": [
    "# loading the data "
   ]
  },
  {
   "cell_type": "code",
   "execution_count": 148,
   "id": "b31b3bbd",
   "metadata": {},
   "outputs": [],
   "source": [
    "customers= pnd.read_csv('C:/Users/ASUS/Desktop/datasets/customer.csv',encoding='ISO_8859-1' ,delimiter=';')\n",
    "products= pnd.read_csv('C:/Users/ASUS/Desktop/datasets/products.csv',encoding='ISO_8859-1' ,delimiter=';')\n",
    "sales= pnd.read_csv('C:/Users/ASUS/Desktop/datasets/sales.csv',encoding='ISO_8859-1' ,delimiter=';')"
   ]
  },
  {
   "cell_type": "markdown",
   "id": "95a8449a",
   "metadata": {},
   "source": [
    "# Cleaning Customers dataset"
   ]
  },
  {
   "cell_type": "code",
   "execution_count": 149,
   "id": "797cd403",
   "metadata": {
    "scrolled": false
   },
   "outputs": [
    {
     "data": {
      "text/html": [
       "<div>\n",
       "<style scoped>\n",
       "    .dataframe tbody tr th:only-of-type {\n",
       "        vertical-align: middle;\n",
       "    }\n",
       "\n",
       "    .dataframe tbody tr th {\n",
       "        vertical-align: top;\n",
       "    }\n",
       "\n",
       "    .dataframe thead th {\n",
       "        text-align: right;\n",
       "    }\n",
       "</style>\n",
       "<table border=\"1\" class=\"dataframe\">\n",
       "  <thead>\n",
       "    <tr style=\"text-align: right;\">\n",
       "      <th></th>\n",
       "      <th>id</th>\n",
       "      <th>country</th>\n",
       "      <th>gender</th>\n",
       "      <th>age</th>\n",
       "      <th>profession</th>\n",
       "    </tr>\n",
       "  </thead>\n",
       "  <tbody>\n",
       "    <tr>\n",
       "      <th>0</th>\n",
       "      <td>CT-0001</td>\n",
       "      <td>France</td>\n",
       "      <td>Female</td>\n",
       "      <td>42</td>\n",
       "      <td>graduation</td>\n",
       "    </tr>\n",
       "    <tr>\n",
       "      <th>1</th>\n",
       "      <td>CT-0002</td>\n",
       "      <td>Tunisia</td>\n",
       "      <td>Female</td>\n",
       "      <td>41</td>\n",
       "      <td>basic</td>\n",
       "    </tr>\n",
       "    <tr>\n",
       "      <th>2</th>\n",
       "      <td>CT-0003</td>\n",
       "      <td>Tunisia</td>\n",
       "      <td>Female</td>\n",
       "      <td>42</td>\n",
       "      <td>basic</td>\n",
       "    </tr>\n",
       "    <tr>\n",
       "      <th>3</th>\n",
       "      <td>CT-0004</td>\n",
       "      <td>Egypt</td>\n",
       "      <td>Female</td>\n",
       "      <td>39</td>\n",
       "      <td>graduation</td>\n",
       "    </tr>\n",
       "    <tr>\n",
       "      <th>4</th>\n",
       "      <td>CT-0005</td>\n",
       "      <td>Algeria</td>\n",
       "      <td>Female</td>\n",
       "      <td>43</td>\n",
       "      <td>undergraduation</td>\n",
       "    </tr>\n",
       "  </tbody>\n",
       "</table>\n",
       "</div>"
      ],
      "text/plain": [
       "        id  country  gender  age       profession\n",
       "0  CT-0001   France  Female   42       graduation\n",
       "1  CT-0002  Tunisia  Female   41            basic\n",
       "2  CT-0003  Tunisia  Female   42            basic\n",
       "3  CT-0004    Egypt  Female   39       graduation\n",
       "4  CT-0005  Algeria  Female   43  undergraduation"
      ]
     },
     "execution_count": 149,
     "metadata": {},
     "output_type": "execute_result"
    }
   ],
   "source": [
    "customers.head()"
   ]
  },
  {
   "cell_type": "code",
   "execution_count": 150,
   "id": "ff898294",
   "metadata": {
    "scrolled": false
   },
   "outputs": [
    {
     "data": {
      "text/html": [
       "<div>\n",
       "<style scoped>\n",
       "    .dataframe tbody tr th:only-of-type {\n",
       "        vertical-align: middle;\n",
       "    }\n",
       "\n",
       "    .dataframe tbody tr th {\n",
       "        vertical-align: top;\n",
       "    }\n",
       "\n",
       "    .dataframe thead th {\n",
       "        text-align: right;\n",
       "    }\n",
       "</style>\n",
       "<table border=\"1\" class=\"dataframe\">\n",
       "  <thead>\n",
       "    <tr style=\"text-align: right;\">\n",
       "      <th></th>\n",
       "      <th>age</th>\n",
       "    </tr>\n",
       "  </thead>\n",
       "  <tbody>\n",
       "    <tr>\n",
       "      <th>count</th>\n",
       "      <td>1000.00000</td>\n",
       "    </tr>\n",
       "    <tr>\n",
       "      <th>mean</th>\n",
       "      <td>39.12600</td>\n",
       "    </tr>\n",
       "    <tr>\n",
       "      <th>std</th>\n",
       "      <td>10.29933</td>\n",
       "    </tr>\n",
       "    <tr>\n",
       "      <th>min</th>\n",
       "      <td>18.00000</td>\n",
       "    </tr>\n",
       "    <tr>\n",
       "      <th>25%</th>\n",
       "      <td>32.00000</td>\n",
       "    </tr>\n",
       "    <tr>\n",
       "      <th>50%</th>\n",
       "      <td>37.00000</td>\n",
       "    </tr>\n",
       "    <tr>\n",
       "      <th>75%</th>\n",
       "      <td>44.00000</td>\n",
       "    </tr>\n",
       "    <tr>\n",
       "      <th>max</th>\n",
       "      <td>82.00000</td>\n",
       "    </tr>\n",
       "  </tbody>\n",
       "</table>\n",
       "</div>"
      ],
      "text/plain": [
       "              age\n",
       "count  1000.00000\n",
       "mean     39.12600\n",
       "std      10.29933\n",
       "min      18.00000\n",
       "25%      32.00000\n",
       "50%      37.00000\n",
       "75%      44.00000\n",
       "max      82.00000"
      ]
     },
     "execution_count": 150,
     "metadata": {},
     "output_type": "execute_result"
    }
   ],
   "source": [
    "customers.describe()"
   ]
  },
  {
   "cell_type": "code",
   "execution_count": 151,
   "id": "4479b1e9",
   "metadata": {},
   "outputs": [
    {
     "data": {
      "text/plain": [
       "(1000, 5)"
      ]
     },
     "execution_count": 151,
     "metadata": {},
     "output_type": "execute_result"
    }
   ],
   "source": [
    "customers.shape"
   ]
  },
  {
   "cell_type": "markdown",
   "id": "790c8104",
   "metadata": {},
   "source": [
    "#### ====> The table of customers have 1000 rows and 6 columns."
   ]
  },
  {
   "cell_type": "markdown",
   "id": "292bd1c0",
   "metadata": {},
   "source": [
    "### informations on features"
   ]
  },
  {
   "cell_type": "code",
   "execution_count": 152,
   "id": "5a6b905f",
   "metadata": {},
   "outputs": [
    {
     "name": "stdout",
     "output_type": "stream",
     "text": [
      "<class 'pandas.core.frame.DataFrame'>\n",
      "RangeIndex: 1000 entries, 0 to 999\n",
      "Data columns (total 5 columns):\n",
      " #   Column      Non-Null Count  Dtype \n",
      "---  ------      --------------  ----- \n",
      " 0   id          1000 non-null   object\n",
      " 1   country     1000 non-null   object\n",
      " 2   gender      1000 non-null   object\n",
      " 3   age         1000 non-null   int64 \n",
      " 4   profession  1000 non-null   object\n",
      "dtypes: int64(1), object(4)\n",
      "memory usage: 39.2+ KB\n"
     ]
    }
   ],
   "source": [
    "customers.info()"
   ]
  },
  {
   "cell_type": "markdown",
   "id": "b4a13bc3",
   "metadata": {},
   "source": [
    "### Missing values"
   ]
  },
  {
   "cell_type": "code",
   "execution_count": 153,
   "id": "3c181b49",
   "metadata": {},
   "outputs": [
    {
     "name": "stdout",
     "output_type": "stream",
     "text": [
      "The total number of data-points after removing the rows with missing values are: 1000\n"
     ]
    }
   ],
   "source": [
    "customers = customers.dropna()\n",
    "print(\"The total number of data-points after removing the rows with missing values are:\", len(customers))"
   ]
  },
  {
   "cell_type": "code",
   "execution_count": 154,
   "id": "325cc90f",
   "metadata": {
    "scrolled": true
   },
   "outputs": [
    {
     "data": {
      "text/plain": [
       "id          0\n",
       "name        0\n",
       "category    0\n",
       "price       0\n",
       "dtype: int64"
      ]
     },
     "execution_count": 154,
     "metadata": {},
     "output_type": "execute_result"
    }
   ],
   "source": [
    "products.isnull().sum()"
   ]
  },
  {
   "cell_type": "markdown",
   "id": "cc3f800b",
   "metadata": {},
   "source": [
    "##### From the above output, we can conclude and note that:\n",
    "    - there is not missing values\n",
    "    - There are some categorical features in our data frame; as there are some features in dtype: object). \n",
    "      So we will need toencode them into numeric forms later(customerID,country,gender,profession)."
   ]
  },
  {
   "cell_type": "markdown",
   "id": "15a11504",
   "metadata": {},
   "source": [
    "### Encoding categorical values "
   ]
  },
  {
   "cell_type": "code",
   "execution_count": 155,
   "id": "bd966403",
   "metadata": {},
   "outputs": [
    {
     "data": {
      "text/html": [
       "<div>\n",
       "<style scoped>\n",
       "    .dataframe tbody tr th:only-of-type {\n",
       "        vertical-align: middle;\n",
       "    }\n",
       "\n",
       "    .dataframe tbody tr th {\n",
       "        vertical-align: top;\n",
       "    }\n",
       "\n",
       "    .dataframe thead th {\n",
       "        text-align: right;\n",
       "    }\n",
       "</style>\n",
       "<table border=\"1\" class=\"dataframe\">\n",
       "  <thead>\n",
       "    <tr style=\"text-align: right;\">\n",
       "      <th></th>\n",
       "      <th>id</th>\n",
       "      <th>country</th>\n",
       "      <th>gender</th>\n",
       "      <th>age</th>\n",
       "      <th>profession</th>\n",
       "    </tr>\n",
       "  </thead>\n",
       "  <tbody>\n",
       "    <tr>\n",
       "      <th>0</th>\n",
       "      <td>0</td>\n",
       "      <td>2</td>\n",
       "      <td>0</td>\n",
       "      <td>42</td>\n",
       "      <td>2</td>\n",
       "    </tr>\n",
       "    <tr>\n",
       "      <th>1</th>\n",
       "      <td>1</td>\n",
       "      <td>5</td>\n",
       "      <td>0</td>\n",
       "      <td>41</td>\n",
       "      <td>1</td>\n",
       "    </tr>\n",
       "    <tr>\n",
       "      <th>2</th>\n",
       "      <td>2</td>\n",
       "      <td>5</td>\n",
       "      <td>0</td>\n",
       "      <td>42</td>\n",
       "      <td>1</td>\n",
       "    </tr>\n",
       "    <tr>\n",
       "      <th>3</th>\n",
       "      <td>3</td>\n",
       "      <td>1</td>\n",
       "      <td>0</td>\n",
       "      <td>39</td>\n",
       "      <td>2</td>\n",
       "    </tr>\n",
       "    <tr>\n",
       "      <th>4</th>\n",
       "      <td>4</td>\n",
       "      <td>0</td>\n",
       "      <td>0</td>\n",
       "      <td>43</td>\n",
       "      <td>3</td>\n",
       "    </tr>\n",
       "  </tbody>\n",
       "</table>\n",
       "</div>"
      ],
      "text/plain": [
       "   id  country  gender  age  profession\n",
       "0   0        2       0   42           2\n",
       "1   1        5       0   41           1\n",
       "2   2        5       0   42           1\n",
       "3   3        1       0   39           2\n",
       "4   4        0       0   43           3"
      ]
     },
     "execution_count": 155,
     "metadata": {},
     "output_type": "execute_result"
    }
   ],
   "source": [
    "numeric_features=customers.select_dtypes(include=['int64','float64']).columns\n",
    "categorical_features=customers.select_dtypes(include='object').columns\n",
    "from sklearn.preprocessing import LabelEncoder\n",
    "scale=LabelEncoder()\n",
    "for i in categorical_features :\n",
    "    customers[i]=scale.fit_transform(customers[i])\n",
    "customers.head()"
   ]
  },
  {
   "cell_type": "markdown",
   "id": "1c917966",
   "metadata": {},
   "source": [
    "# Cleaning Products dataset "
   ]
  },
  {
   "cell_type": "code",
   "execution_count": 156,
   "id": "9f77466f",
   "metadata": {
    "scrolled": false
   },
   "outputs": [
    {
     "data": {
      "text/html": [
       "<div>\n",
       "<style scoped>\n",
       "    .dataframe tbody tr th:only-of-type {\n",
       "        vertical-align: middle;\n",
       "    }\n",
       "\n",
       "    .dataframe tbody tr th {\n",
       "        vertical-align: top;\n",
       "    }\n",
       "\n",
       "    .dataframe thead th {\n",
       "        text-align: right;\n",
       "    }\n",
       "</style>\n",
       "<table border=\"1\" class=\"dataframe\">\n",
       "  <thead>\n",
       "    <tr style=\"text-align: right;\">\n",
       "      <th></th>\n",
       "      <th>id</th>\n",
       "      <th>name</th>\n",
       "      <th>category</th>\n",
       "      <th>price</th>\n",
       "    </tr>\n",
       "  </thead>\n",
       "  <tbody>\n",
       "    <tr>\n",
       "      <th>0</th>\n",
       "      <td>PT-0001</td>\n",
       "      <td>Dual-Band / Tri-Mode Sprint PCS Phone w/ Voice...</td>\n",
       "      <td>High-Tech</td>\n",
       "      <td>700</td>\n",
       "    </tr>\n",
       "    <tr>\n",
       "      <th>1</th>\n",
       "      <td>PT-0002</td>\n",
       "      <td>Motorola I265 phone</td>\n",
       "      <td>High-Tech</td>\n",
       "      <td>650</td>\n",
       "    </tr>\n",
       "    <tr>\n",
       "      <th>2</th>\n",
       "      <td>PT-0003</td>\n",
       "      <td>MOTOROLA C168i AT&amp;T CINGULAR PREPAID GOPHONE C...</td>\n",
       "      <td>High-Tech</td>\n",
       "      <td>890</td>\n",
       "    </tr>\n",
       "    <tr>\n",
       "      <th>3</th>\n",
       "      <td>PT-0004</td>\n",
       "      <td>Motorola i335 Cell Phone Boost Mobile</td>\n",
       "      <td>High-Tech</td>\n",
       "      <td>900</td>\n",
       "    </tr>\n",
       "    <tr>\n",
       "      <th>4</th>\n",
       "      <td>PT-0005</td>\n",
       "      <td>Motorola V365 no contract cellular phone AT&amp;T</td>\n",
       "      <td>High-Tech</td>\n",
       "      <td>400</td>\n",
       "    </tr>\n",
       "  </tbody>\n",
       "</table>\n",
       "</div>"
      ],
      "text/plain": [
       "        id                                               name   category  \\\n",
       "0  PT-0001  Dual-Band / Tri-Mode Sprint PCS Phone w/ Voice...  High-Tech   \n",
       "1  PT-0002                                Motorola I265 phone  High-Tech   \n",
       "2  PT-0003  MOTOROLA C168i AT&T CINGULAR PREPAID GOPHONE C...  High-Tech   \n",
       "3  PT-0004              Motorola i335 Cell Phone Boost Mobile  High-Tech   \n",
       "4  PT-0005      Motorola V365 no contract cellular phone AT&T  High-Tech   \n",
       "\n",
       "   price  \n",
       "0    700  \n",
       "1    650  \n",
       "2    890  \n",
       "3    900  \n",
       "4    400  "
      ]
     },
     "execution_count": 156,
     "metadata": {},
     "output_type": "execute_result"
    }
   ],
   "source": [
    "products.head()"
   ]
  },
  {
   "cell_type": "code",
   "execution_count": 157,
   "id": "e9b42a58",
   "metadata": {
    "scrolled": true
   },
   "outputs": [
    {
     "data": {
      "text/html": [
       "<div>\n",
       "<style scoped>\n",
       "    .dataframe tbody tr th:only-of-type {\n",
       "        vertical-align: middle;\n",
       "    }\n",
       "\n",
       "    .dataframe tbody tr th {\n",
       "        vertical-align: top;\n",
       "    }\n",
       "\n",
       "    .dataframe thead th {\n",
       "        text-align: right;\n",
       "    }\n",
       "</style>\n",
       "<table border=\"1\" class=\"dataframe\">\n",
       "  <thead>\n",
       "    <tr style=\"text-align: right;\">\n",
       "      <th></th>\n",
       "      <th>price</th>\n",
       "    </tr>\n",
       "  </thead>\n",
       "  <tbody>\n",
       "    <tr>\n",
       "      <th>count</th>\n",
       "      <td>794.000000</td>\n",
       "    </tr>\n",
       "    <tr>\n",
       "      <th>mean</th>\n",
       "      <td>513.532746</td>\n",
       "    </tr>\n",
       "    <tr>\n",
       "      <th>std</th>\n",
       "      <td>280.395833</td>\n",
       "    </tr>\n",
       "    <tr>\n",
       "      <th>min</th>\n",
       "      <td>75.000000</td>\n",
       "    </tr>\n",
       "    <tr>\n",
       "      <th>25%</th>\n",
       "      <td>210.000000</td>\n",
       "    </tr>\n",
       "    <tr>\n",
       "      <th>50%</th>\n",
       "      <td>600.000000</td>\n",
       "    </tr>\n",
       "    <tr>\n",
       "      <th>75%</th>\n",
       "      <td>740.000000</td>\n",
       "    </tr>\n",
       "    <tr>\n",
       "      <th>max</th>\n",
       "      <td>900.000000</td>\n",
       "    </tr>\n",
       "  </tbody>\n",
       "</table>\n",
       "</div>"
      ],
      "text/plain": [
       "            price\n",
       "count  794.000000\n",
       "mean   513.532746\n",
       "std    280.395833\n",
       "min     75.000000\n",
       "25%    210.000000\n",
       "50%    600.000000\n",
       "75%    740.000000\n",
       "max    900.000000"
      ]
     },
     "execution_count": 157,
     "metadata": {},
     "output_type": "execute_result"
    }
   ],
   "source": [
    "products.describe()"
   ]
  },
  {
   "cell_type": "code",
   "execution_count": 158,
   "id": "17a1bff2",
   "metadata": {},
   "outputs": [
    {
     "data": {
      "text/plain": [
       "(794, 4)"
      ]
     },
     "execution_count": 158,
     "metadata": {},
     "output_type": "execute_result"
    }
   ],
   "source": [
    "products.shape"
   ]
  },
  {
   "cell_type": "markdown",
   "id": "cb0b904b",
   "metadata": {},
   "source": [
    "#### ====> The table of products have 794 rows and 4 columns."
   ]
  },
  {
   "cell_type": "markdown",
   "id": "b7e0014f",
   "metadata": {},
   "source": [
    "### informations on features"
   ]
  },
  {
   "cell_type": "code",
   "execution_count": 159,
   "id": "a2cdc6b2",
   "metadata": {},
   "outputs": [
    {
     "name": "stdout",
     "output_type": "stream",
     "text": [
      "<class 'pandas.core.frame.DataFrame'>\n",
      "RangeIndex: 794 entries, 0 to 793\n",
      "Data columns (total 4 columns):\n",
      " #   Column    Non-Null Count  Dtype \n",
      "---  ------    --------------  ----- \n",
      " 0   id        794 non-null    object\n",
      " 1   name      794 non-null    object\n",
      " 2   category  794 non-null    object\n",
      " 3   price     794 non-null    int64 \n",
      "dtypes: int64(1), object(3)\n",
      "memory usage: 24.9+ KB\n"
     ]
    }
   ],
   "source": [
    "products.info()"
   ]
  },
  {
   "cell_type": "markdown",
   "id": "ba5b96c9",
   "metadata": {},
   "source": [
    "### Missing values\n"
   ]
  },
  {
   "cell_type": "code",
   "execution_count": 160,
   "id": "26827bf8",
   "metadata": {},
   "outputs": [
    {
     "name": "stdout",
     "output_type": "stream",
     "text": [
      "The total number of data-points after removing the rows with missing values are: 794\n"
     ]
    }
   ],
   "source": [
    "products = products.dropna()\n",
    "print(\"The total number of data-points after removing the rows with missing values are:\", len(products))"
   ]
  },
  {
   "cell_type": "code",
   "execution_count": 161,
   "id": "e71d5cf9",
   "metadata": {},
   "outputs": [
    {
     "data": {
      "text/plain": [
       "id          0\n",
       "name        0\n",
       "category    0\n",
       "price       0\n",
       "dtype: int64"
      ]
     },
     "execution_count": 161,
     "metadata": {},
     "output_type": "execute_result"
    }
   ],
   "source": [
    "products.isnull().sum()"
   ]
  },
  {
   "cell_type": "markdown",
   "id": "d5abd6eb",
   "metadata": {},
   "source": [
    "##### From the above output, we can conclude and note that:\n",
    "    - there is not missing values\n",
    "    - There are some categorical features in our data frame; as there are some features in dtype: object). \n",
    "      So we will need toencode them into numeric forms later(id,name,category)."
   ]
  },
  {
   "cell_type": "markdown",
   "id": "cd8a1891",
   "metadata": {},
   "source": [
    "### Encoding categorical values \n"
   ]
  },
  {
   "cell_type": "code",
   "execution_count": 162,
   "id": "b67dd425",
   "metadata": {},
   "outputs": [
    {
     "data": {
      "text/html": [
       "<div>\n",
       "<style scoped>\n",
       "    .dataframe tbody tr th:only-of-type {\n",
       "        vertical-align: middle;\n",
       "    }\n",
       "\n",
       "    .dataframe tbody tr th {\n",
       "        vertical-align: top;\n",
       "    }\n",
       "\n",
       "    .dataframe thead th {\n",
       "        text-align: right;\n",
       "    }\n",
       "</style>\n",
       "<table border=\"1\" class=\"dataframe\">\n",
       "  <thead>\n",
       "    <tr style=\"text-align: right;\">\n",
       "      <th></th>\n",
       "      <th>id</th>\n",
       "      <th>name</th>\n",
       "      <th>category</th>\n",
       "      <th>price</th>\n",
       "    </tr>\n",
       "  </thead>\n",
       "  <tbody>\n",
       "    <tr>\n",
       "      <th>0</th>\n",
       "      <td>0</td>\n",
       "      <td>116</td>\n",
       "      <td>0</td>\n",
       "      <td>700</td>\n",
       "    </tr>\n",
       "    <tr>\n",
       "      <th>1</th>\n",
       "      <td>1</td>\n",
       "      <td>287</td>\n",
       "      <td>0</td>\n",
       "      <td>650</td>\n",
       "    </tr>\n",
       "    <tr>\n",
       "      <th>2</th>\n",
       "      <td>2</td>\n",
       "      <td>247</td>\n",
       "      <td>0</td>\n",
       "      <td>890</td>\n",
       "    </tr>\n",
       "    <tr>\n",
       "      <th>3</th>\n",
       "      <td>3</td>\n",
       "      <td>321</td>\n",
       "      <td>0</td>\n",
       "      <td>900</td>\n",
       "    </tr>\n",
       "    <tr>\n",
       "      <th>4</th>\n",
       "      <td>4</td>\n",
       "      <td>313</td>\n",
       "      <td>0</td>\n",
       "      <td>400</td>\n",
       "    </tr>\n",
       "  </tbody>\n",
       "</table>\n",
       "</div>"
      ],
      "text/plain": [
       "   id  name  category  price\n",
       "0   0   116         0    700\n",
       "1   1   287         0    650\n",
       "2   2   247         0    890\n",
       "3   3   321         0    900\n",
       "4   4   313         0    400"
      ]
     },
     "execution_count": 162,
     "metadata": {},
     "output_type": "execute_result"
    }
   ],
   "source": [
    "numeric_features1=products.select_dtypes(include=['int64','float64']).columns\n",
    "categorical_features1=products.select_dtypes(include='object').columns\n",
    "from sklearn.preprocessing import LabelEncoder\n",
    "scale=LabelEncoder()\n",
    "for i in categorical_features1 :\n",
    "    products[i]=scale.fit_transform(products[i])\n",
    "products.head()"
   ]
  },
  {
   "cell_type": "markdown",
   "id": "c8d6bd25",
   "metadata": {},
   "source": [
    "# Cleaning Sales dataset"
   ]
  },
  {
   "cell_type": "code",
   "execution_count": 163,
   "id": "379f0747",
   "metadata": {},
   "outputs": [
    {
     "data": {
      "text/html": [
       "<div>\n",
       "<style scoped>\n",
       "    .dataframe tbody tr th:only-of-type {\n",
       "        vertical-align: middle;\n",
       "    }\n",
       "\n",
       "    .dataframe tbody tr th {\n",
       "        vertical-align: top;\n",
       "    }\n",
       "\n",
       "    .dataframe thead th {\n",
       "        text-align: right;\n",
       "    }\n",
       "</style>\n",
       "<table border=\"1\" class=\"dataframe\">\n",
       "  <thead>\n",
       "    <tr style=\"text-align: right;\">\n",
       "      <th></th>\n",
       "      <th>customerID</th>\n",
       "      <th>productID</th>\n",
       "      <th>amount</th>\n",
       "      <th>Sdate</th>\n",
       "    </tr>\n",
       "  </thead>\n",
       "  <tbody>\n",
       "    <tr>\n",
       "      <th>0</th>\n",
       "      <td>CT-0001</td>\n",
       "      <td>PT-0565</td>\n",
       "      <td>350.0</td>\n",
       "      <td>25/08/2020</td>\n",
       "    </tr>\n",
       "    <tr>\n",
       "      <th>1</th>\n",
       "      <td>CT-0001</td>\n",
       "      <td>PT-0565</td>\n",
       "      <td>350.0</td>\n",
       "      <td>12/10/2020</td>\n",
       "    </tr>\n",
       "    <tr>\n",
       "      <th>2</th>\n",
       "      <td>CT-0001</td>\n",
       "      <td>PT-0574</td>\n",
       "      <td>140.0</td>\n",
       "      <td>06/12/2021</td>\n",
       "    </tr>\n",
       "    <tr>\n",
       "      <th>3</th>\n",
       "      <td>CT-0001</td>\n",
       "      <td>PT-0574</td>\n",
       "      <td>140.0</td>\n",
       "      <td>19/02/2021</td>\n",
       "    </tr>\n",
       "    <tr>\n",
       "      <th>4</th>\n",
       "      <td>CT-0001</td>\n",
       "      <td>PT-0574</td>\n",
       "      <td>140.0</td>\n",
       "      <td>10/04/2021</td>\n",
       "    </tr>\n",
       "  </tbody>\n",
       "</table>\n",
       "</div>"
      ],
      "text/plain": [
       "  customerID productID  amount       Sdate\n",
       "0    CT-0001   PT-0565   350.0  25/08/2020\n",
       "1    CT-0001   PT-0565   350.0  12/10/2020\n",
       "2    CT-0001   PT-0574   140.0  06/12/2021\n",
       "3    CT-0001   PT-0574   140.0  19/02/2021\n",
       "4    CT-0001   PT-0574   140.0  10/04/2021"
      ]
     },
     "execution_count": 163,
     "metadata": {},
     "output_type": "execute_result"
    }
   ],
   "source": [
    "sales.head()"
   ]
  },
  {
   "cell_type": "code",
   "execution_count": 164,
   "id": "ded0c5e7",
   "metadata": {},
   "outputs": [
    {
     "data": {
      "text/html": [
       "<div>\n",
       "<style scoped>\n",
       "    .dataframe tbody tr th:only-of-type {\n",
       "        vertical-align: middle;\n",
       "    }\n",
       "\n",
       "    .dataframe tbody tr th {\n",
       "        vertical-align: top;\n",
       "    }\n",
       "\n",
       "    .dataframe thead th {\n",
       "        text-align: right;\n",
       "    }\n",
       "</style>\n",
       "<table border=\"1\" class=\"dataframe\">\n",
       "  <thead>\n",
       "    <tr style=\"text-align: right;\">\n",
       "      <th></th>\n",
       "      <th>amount</th>\n",
       "    </tr>\n",
       "  </thead>\n",
       "  <tbody>\n",
       "    <tr>\n",
       "      <th>count</th>\n",
       "      <td>3014.000000</td>\n",
       "    </tr>\n",
       "    <tr>\n",
       "      <th>mean</th>\n",
       "      <td>373.331453</td>\n",
       "    </tr>\n",
       "    <tr>\n",
       "      <th>std</th>\n",
       "      <td>286.479766</td>\n",
       "    </tr>\n",
       "    <tr>\n",
       "      <th>min</th>\n",
       "      <td>75.000000</td>\n",
       "    </tr>\n",
       "    <tr>\n",
       "      <th>25%</th>\n",
       "      <td>190.000000</td>\n",
       "    </tr>\n",
       "    <tr>\n",
       "      <th>50%</th>\n",
       "      <td>210.000000</td>\n",
       "    </tr>\n",
       "    <tr>\n",
       "      <th>75%</th>\n",
       "      <td>550.000000</td>\n",
       "    </tr>\n",
       "    <tr>\n",
       "      <th>max</th>\n",
       "      <td>990.000000</td>\n",
       "    </tr>\n",
       "  </tbody>\n",
       "</table>\n",
       "</div>"
      ],
      "text/plain": [
       "            amount\n",
       "count  3014.000000\n",
       "mean    373.331453\n",
       "std     286.479766\n",
       "min      75.000000\n",
       "25%     190.000000\n",
       "50%     210.000000\n",
       "75%     550.000000\n",
       "max     990.000000"
      ]
     },
     "execution_count": 164,
     "metadata": {},
     "output_type": "execute_result"
    }
   ],
   "source": [
    "sales.describe()"
   ]
  },
  {
   "cell_type": "code",
   "execution_count": 165,
   "id": "d0afaa47",
   "metadata": {},
   "outputs": [
    {
     "data": {
      "text/plain": [
       "(3090, 4)"
      ]
     },
     "execution_count": 165,
     "metadata": {},
     "output_type": "execute_result"
    }
   ],
   "source": [
    "sales.shape"
   ]
  },
  {
   "cell_type": "markdown",
   "id": "4aabc833",
   "metadata": {},
   "source": [
    "#### =====> The table of sales have 3090 rows and 4 columns."
   ]
  },
  {
   "cell_type": "markdown",
   "id": "c8fc106c",
   "metadata": {},
   "source": [
    "### informations on features"
   ]
  },
  {
   "cell_type": "code",
   "execution_count": 170,
   "id": "71112d78",
   "metadata": {},
   "outputs": [
    {
     "name": "stdout",
     "output_type": "stream",
     "text": [
      "<class 'pandas.core.frame.DataFrame'>\n",
      "Int64Index: 3014 entries, 0 to 3014\n",
      "Data columns (total 4 columns):\n",
      " #   Column      Non-Null Count  Dtype  \n",
      "---  ------      --------------  -----  \n",
      " 0   customerID  3014 non-null   int32  \n",
      " 1   productID   3014 non-null   int32  \n",
      " 2   amount      3014 non-null   float64\n",
      " 3   Sdate       3014 non-null   int32  \n",
      "dtypes: float64(1), int32(3)\n",
      "memory usage: 82.4 KB\n"
     ]
    }
   ],
   "source": [
    "sales.info()"
   ]
  },
  {
   "cell_type": "markdown",
   "id": "a984725d",
   "metadata": {},
   "source": [
    "### Missing values"
   ]
  },
  {
   "cell_type": "code",
   "execution_count": 171,
   "id": "1ead1565",
   "metadata": {},
   "outputs": [
    {
     "data": {
      "text/plain": [
       "customerID    0\n",
       "productID     0\n",
       "amount        0\n",
       "Sdate         0\n",
       "dtype: int64"
      ]
     },
     "execution_count": 171,
     "metadata": {},
     "output_type": "execute_result"
    }
   ],
   "source": [
    "sales.isnull().sum()"
   ]
  },
  {
   "cell_type": "code",
   "execution_count": 172,
   "id": "56a897e6",
   "metadata": {},
   "outputs": [
    {
     "name": "stdout",
     "output_type": "stream",
     "text": [
      "The total number of data-points after removing the rows with missing values are: 3014\n"
     ]
    }
   ],
   "source": [
    "sales = sales.dropna()\n",
    "print(\"The total number of data-points after removing the rows with missing values are:\", len(sales))"
   ]
  },
  {
   "cell_type": "markdown",
   "id": "4f2823bc",
   "metadata": {},
   "source": [
    "##### From the above output, we can conclude and note that:\n",
    "    - there is missing values\n",
    "    - There are some categorical features in our data frame; as there are some features in dtype: object).\n",
    "    - we will need toencode them into numeric forms later(customerID,productID,Sdate)."
   ]
  },
  {
   "cell_type": "markdown",
   "id": "e683133c",
   "metadata": {},
   "source": [
    "### Encoding categorical values "
   ]
  },
  {
   "cell_type": "code",
   "execution_count": 173,
   "id": "cf8760ec",
   "metadata": {},
   "outputs": [
    {
     "data": {
      "text/html": [
       "<div>\n",
       "<style scoped>\n",
       "    .dataframe tbody tr th:only-of-type {\n",
       "        vertical-align: middle;\n",
       "    }\n",
       "\n",
       "    .dataframe tbody tr th {\n",
       "        vertical-align: top;\n",
       "    }\n",
       "\n",
       "    .dataframe thead th {\n",
       "        text-align: right;\n",
       "    }\n",
       "</style>\n",
       "<table border=\"1\" class=\"dataframe\">\n",
       "  <thead>\n",
       "    <tr style=\"text-align: right;\">\n",
       "      <th></th>\n",
       "      <th>customerID</th>\n",
       "      <th>productID</th>\n",
       "      <th>amount</th>\n",
       "      <th>Sdate</th>\n",
       "    </tr>\n",
       "  </thead>\n",
       "  <tbody>\n",
       "    <tr>\n",
       "      <th>0</th>\n",
       "      <td>1</td>\n",
       "      <td>219</td>\n",
       "      <td>350.0</td>\n",
       "      <td>670</td>\n",
       "    </tr>\n",
       "    <tr>\n",
       "      <th>1</th>\n",
       "      <td>1</td>\n",
       "      <td>219</td>\n",
       "      <td>350.0</td>\n",
       "      <td>315</td>\n",
       "    </tr>\n",
       "    <tr>\n",
       "      <th>2</th>\n",
       "      <td>1</td>\n",
       "      <td>228</td>\n",
       "      <td>140.0</td>\n",
       "      <td>159</td>\n",
       "    </tr>\n",
       "    <tr>\n",
       "      <th>3</th>\n",
       "      <td>1</td>\n",
       "      <td>228</td>\n",
       "      <td>140.0</td>\n",
       "      <td>492</td>\n",
       "    </tr>\n",
       "    <tr>\n",
       "      <th>4</th>\n",
       "      <td>1</td>\n",
       "      <td>228</td>\n",
       "      <td>140.0</td>\n",
       "      <td>247</td>\n",
       "    </tr>\n",
       "  </tbody>\n",
       "</table>\n",
       "</div>"
      ],
      "text/plain": [
       "   customerID  productID  amount  Sdate\n",
       "0           1        219   350.0    670\n",
       "1           1        219   350.0    315\n",
       "2           1        228   140.0    159\n",
       "3           1        228   140.0    492\n",
       "4           1        228   140.0    247"
      ]
     },
     "execution_count": 173,
     "metadata": {},
     "output_type": "execute_result"
    }
   ],
   "source": [
    "numeric_features2=sales.select_dtypes(include=['int64','float64']).columns\n",
    "categorical_features2=sales.select_dtypes(include='object').columns\n",
    "from sklearn.preprocessing import LabelEncoder\n",
    "scale=LabelEncoder()\n",
    "for i in categorical_features2 :\n",
    "    sales[i]=scale.fit_transform(sales[i])\n",
    "sales.head()"
   ]
  }
 ],
 "metadata": {
  "kernelspec": {
   "display_name": "Python 3 (ipykernel)",
   "language": "python",
   "name": "python3"
  },
  "language_info": {
   "codemirror_mode": {
    "name": "ipython",
    "version": 3
   },
   "file_extension": ".py",
   "mimetype": "text/x-python",
   "name": "python",
   "nbconvert_exporter": "python",
   "pygments_lexer": "ipython3",
   "version": "3.9.12"
  }
 },
 "nbformat": 4,
 "nbformat_minor": 5
}
