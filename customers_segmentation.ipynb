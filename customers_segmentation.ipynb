{
 "cells": [
  {
   "cell_type": "markdown",
   "id": "f4879baa",
   "metadata": {},
   "source": [
    "# importing dependencies"
   ]
  },
  {
   "cell_type": "code",
   "execution_count": 263,
   "id": "d8bcc75f",
   "metadata": {},
   "outputs": [],
   "source": [
    "import numpy as np\n",
    "import pandas as pd\n",
    "import datetime\n",
    "import matplotlib\n",
    "import matplotlib.pyplot as plt\n",
    "import seaborn as sns\n",
    "from sklearn.cluster import KMeans\n",
    "from sklearn.preprocessing import LabelEncoder\n",
    "from sklearn.preprocessing import StandardScaler\n",
    "%matplotlib inline"
   ]
  },
  {
   "cell_type": "markdown",
   "id": "42074841",
   "metadata": {},
   "source": [
    "##### Our database is composed of 3 datasets customers, products and sales"
   ]
  },
  {
   "cell_type": "markdown",
   "id": "b5dab12f",
   "metadata": {},
   "source": [
    "# loading the data \n",
    "   First of all, we are going to read our data into dataframe using pandas"
   ]
  },
  {
   "cell_type": "code",
   "execution_count": 264,
   "id": "f92b7f5e",
   "metadata": {},
   "outputs": [],
   "source": [
    "customers= pd.read_csv('C:/Users/ASUS/Desktop/datasets/customer.csv',encoding='ISO_8859-1' ,delimiter=';')\n",
    "products= pd.read_csv('C:/Users/ASUS/Desktop/datasets/products.csv',encoding='ISO_8859-1' ,delimiter=';')\n",
    "sales= pd.read_csv('C:/Users/ASUS/Desktop/datasets/sales.csv',encoding='ISO_8859-1' ,delimiter=';')"
   ]
  },
  {
   "cell_type": "markdown",
   "id": "491102cd",
   "metadata": {},
   "source": [
    "# Customers dataset "
   ]
  },
  {
   "cell_type": "code",
   "execution_count": 265,
   "id": "1c4c250e",
   "metadata": {},
   "outputs": [
    {
     "data": {
      "text/html": [
       "<div>\n",
       "<style scoped>\n",
       "    .dataframe tbody tr th:only-of-type {\n",
       "        vertical-align: middle;\n",
       "    }\n",
       "\n",
       "    .dataframe tbody tr th {\n",
       "        vertical-align: top;\n",
       "    }\n",
       "\n",
       "    .dataframe thead th {\n",
       "        text-align: right;\n",
       "    }\n",
       "</style>\n",
       "<table border=\"1\" class=\"dataframe\">\n",
       "  <thead>\n",
       "    <tr style=\"text-align: right;\">\n",
       "      <th></th>\n",
       "      <th>id</th>\n",
       "      <th>country</th>\n",
       "      <th>gender</th>\n",
       "      <th>age</th>\n",
       "      <th>profession</th>\n",
       "    </tr>\n",
       "  </thead>\n",
       "  <tbody>\n",
       "    <tr>\n",
       "      <th>0</th>\n",
       "      <td>CT-0001</td>\n",
       "      <td>France</td>\n",
       "      <td>Female</td>\n",
       "      <td>42</td>\n",
       "      <td>graduation</td>\n",
       "    </tr>\n",
       "    <tr>\n",
       "      <th>1</th>\n",
       "      <td>CT-0002</td>\n",
       "      <td>Tunisia</td>\n",
       "      <td>Female</td>\n",
       "      <td>41</td>\n",
       "      <td>basic</td>\n",
       "    </tr>\n",
       "    <tr>\n",
       "      <th>2</th>\n",
       "      <td>CT-0003</td>\n",
       "      <td>Tunisia</td>\n",
       "      <td>Female</td>\n",
       "      <td>42</td>\n",
       "      <td>basic</td>\n",
       "    </tr>\n",
       "    <tr>\n",
       "      <th>3</th>\n",
       "      <td>CT-0004</td>\n",
       "      <td>Egypt</td>\n",
       "      <td>Female</td>\n",
       "      <td>39</td>\n",
       "      <td>graduation</td>\n",
       "    </tr>\n",
       "    <tr>\n",
       "      <th>4</th>\n",
       "      <td>CT-0005</td>\n",
       "      <td>Algeria</td>\n",
       "      <td>Female</td>\n",
       "      <td>43</td>\n",
       "      <td>undergraduation</td>\n",
       "    </tr>\n",
       "  </tbody>\n",
       "</table>\n",
       "</div>"
      ],
      "text/plain": [
       "        id  country  gender  age       profession\n",
       "0  CT-0001   France  Female   42       graduation\n",
       "1  CT-0002  Tunisia  Female   41            basic\n",
       "2  CT-0003  Tunisia  Female   42            basic\n",
       "3  CT-0004    Egypt  Female   39       graduation\n",
       "4  CT-0005  Algeria  Female   43  undergraduation"
      ]
     },
     "execution_count": 265,
     "metadata": {},
     "output_type": "execute_result"
    }
   ],
   "source": [
    "customers.head()"
   ]
  },
  {
   "cell_type": "code",
   "execution_count": 266,
   "id": "15e402a5",
   "metadata": {},
   "outputs": [
    {
     "data": {
      "text/plain": [
       "(1000, 5)"
      ]
     },
     "execution_count": 266,
     "metadata": {},
     "output_type": "execute_result"
    }
   ],
   "source": [
    "customers.shape"
   ]
  },
  {
   "cell_type": "markdown",
   "id": "cc52b7e9",
   "metadata": {},
   "source": [
    "#### ====> The table of customers have 1000 rows and 6 columns."
   ]
  },
  {
   "cell_type": "markdown",
   "id": "8bc2dc4a",
   "metadata": {},
   "source": [
    "## Mean | Max | Min"
   ]
  },
  {
   "cell_type": "code",
   "execution_count": 267,
   "id": "53073401",
   "metadata": {},
   "outputs": [
    {
     "data": {
      "text/html": [
       "<div>\n",
       "<style scoped>\n",
       "    .dataframe tbody tr th:only-of-type {\n",
       "        vertical-align: middle;\n",
       "    }\n",
       "\n",
       "    .dataframe tbody tr th {\n",
       "        vertical-align: top;\n",
       "    }\n",
       "\n",
       "    .dataframe thead th {\n",
       "        text-align: right;\n",
       "    }\n",
       "</style>\n",
       "<table border=\"1\" class=\"dataframe\">\n",
       "  <thead>\n",
       "    <tr style=\"text-align: right;\">\n",
       "      <th></th>\n",
       "      <th>age</th>\n",
       "    </tr>\n",
       "  </thead>\n",
       "  <tbody>\n",
       "    <tr>\n",
       "      <th>count</th>\n",
       "      <td>1000.00000</td>\n",
       "    </tr>\n",
       "    <tr>\n",
       "      <th>mean</th>\n",
       "      <td>39.12600</td>\n",
       "    </tr>\n",
       "    <tr>\n",
       "      <th>std</th>\n",
       "      <td>10.29933</td>\n",
       "    </tr>\n",
       "    <tr>\n",
       "      <th>min</th>\n",
       "      <td>18.00000</td>\n",
       "    </tr>\n",
       "    <tr>\n",
       "      <th>25%</th>\n",
       "      <td>32.00000</td>\n",
       "    </tr>\n",
       "    <tr>\n",
       "      <th>50%</th>\n",
       "      <td>37.00000</td>\n",
       "    </tr>\n",
       "    <tr>\n",
       "      <th>75%</th>\n",
       "      <td>44.00000</td>\n",
       "    </tr>\n",
       "    <tr>\n",
       "      <th>max</th>\n",
       "      <td>82.00000</td>\n",
       "    </tr>\n",
       "  </tbody>\n",
       "</table>\n",
       "</div>"
      ],
      "text/plain": [
       "              age\n",
       "count  1000.00000\n",
       "mean     39.12600\n",
       "std      10.29933\n",
       "min      18.00000\n",
       "25%      32.00000\n",
       "50%      37.00000\n",
       "75%      44.00000\n",
       "max      82.00000"
      ]
     },
     "execution_count": 267,
     "metadata": {},
     "output_type": "execute_result"
    }
   ],
   "source": [
    "customers.describe()"
   ]
  },
  {
   "cell_type": "markdown",
   "id": "6234379e",
   "metadata": {},
   "source": [
    "#### conclusion : \n",
    "      - the age goes from 18 y.o to 82 years old \n",
    "      - the average age is about 39\n",
    "      - the standard deviation is about 10.29 "
   ]
  },
  {
   "cell_type": "markdown",
   "id": "ea316a94",
   "metadata": {},
   "source": [
    "## informations on features"
   ]
  },
  {
   "cell_type": "code",
   "execution_count": 268,
   "id": "faa1f166",
   "metadata": {},
   "outputs": [
    {
     "name": "stdout",
     "output_type": "stream",
     "text": [
      "<class 'pandas.core.frame.DataFrame'>\n",
      "RangeIndex: 1000 entries, 0 to 999\n",
      "Data columns (total 5 columns):\n",
      " #   Column      Non-Null Count  Dtype \n",
      "---  ------      --------------  ----- \n",
      " 0   id          1000 non-null   object\n",
      " 1   country     1000 non-null   object\n",
      " 2   gender      1000 non-null   object\n",
      " 3   age         1000 non-null   int64 \n",
      " 4   profession  1000 non-null   object\n",
      "dtypes: int64(1), object(4)\n",
      "memory usage: 39.2+ KB\n"
     ]
    }
   ],
   "source": [
    "customers.info()"
   ]
  },
  {
   "cell_type": "markdown",
   "id": "6ea23b48",
   "metadata": {},
   "source": [
    "## Data Cleaning"
   ]
  },
  {
   "cell_type": "markdown",
   "id": "5bca2c77",
   "metadata": {},
   "source": [
    "### Missing values"
   ]
  },
  {
   "cell_type": "code",
   "execution_count": 269,
   "id": "9954a0e3",
   "metadata": {
    "scrolled": true
   },
   "outputs": [
    {
     "data": {
      "text/plain": [
       "id          0\n",
       "name        0\n",
       "category    0\n",
       "price       0\n",
       "dtype: int64"
      ]
     },
     "execution_count": 269,
     "metadata": {},
     "output_type": "execute_result"
    }
   ],
   "source": [
    "products.isnull().sum()"
   ]
  },
  {
   "cell_type": "code",
   "execution_count": 270,
   "id": "108834c3",
   "metadata": {},
   "outputs": [
    {
     "name": "stdout",
     "output_type": "stream",
     "text": [
      "The total number of data-points after removing the rows with missing values are: 1000\n"
     ]
    }
   ],
   "source": [
    "customers = customers.dropna()\n",
    "print(\"The total number of data-points after removing the rows with missing values are:\", len(customers))"
   ]
  },
  {
   "cell_type": "markdown",
   "id": "2f8fb2ba",
   "metadata": {},
   "source": [
    "##### ===> From the above output, we can conclude and note that:\n",
    "    - there is not missing values\n",
    "    "
   ]
  },
  {
   "cell_type": "markdown",
   "id": "af6e96c7",
   "metadata": {},
   "source": [
    "### Encoding categorical values "
   ]
  },
  {
   "cell_type": "code",
   "execution_count": 271,
   "id": "20ca8c85",
   "metadata": {},
   "outputs": [
    {
     "data": {
      "text/plain": [
       "id            object\n",
       "country       object\n",
       "gender        object\n",
       "age            int64\n",
       "profession    object\n",
       "dtype: object"
      ]
     },
     "execution_count": 271,
     "metadata": {},
     "output_type": "execute_result"
    }
   ],
   "source": [
    "customers.dtypes"
   ]
  },
  {
   "cell_type": "markdown",
   "id": "e6ac3ecb",
   "metadata": {},
   "source": [
    "###### ===> There are some categorical features in our data frame; as there are some features in dtype: object). \n",
    "###### So we will need to encode them into numeric forms later(customerID,country,gender,profession)."
   ]
  },
  {
   "cell_type": "code",
   "execution_count": 272,
   "id": "76de4e64",
   "metadata": {},
   "outputs": [
    {
     "data": {
      "text/html": [
       "<div>\n",
       "<style scoped>\n",
       "    .dataframe tbody tr th:only-of-type {\n",
       "        vertical-align: middle;\n",
       "    }\n",
       "\n",
       "    .dataframe tbody tr th {\n",
       "        vertical-align: top;\n",
       "    }\n",
       "\n",
       "    .dataframe thead th {\n",
       "        text-align: right;\n",
       "    }\n",
       "</style>\n",
       "<table border=\"1\" class=\"dataframe\">\n",
       "  <thead>\n",
       "    <tr style=\"text-align: right;\">\n",
       "      <th></th>\n",
       "      <th>id</th>\n",
       "      <th>country</th>\n",
       "      <th>gender</th>\n",
       "      <th>age</th>\n",
       "      <th>profession</th>\n",
       "    </tr>\n",
       "  </thead>\n",
       "  <tbody>\n",
       "    <tr>\n",
       "      <th>0</th>\n",
       "      <td>0</td>\n",
       "      <td>2</td>\n",
       "      <td>0</td>\n",
       "      <td>42</td>\n",
       "      <td>2</td>\n",
       "    </tr>\n",
       "    <tr>\n",
       "      <th>1</th>\n",
       "      <td>1</td>\n",
       "      <td>5</td>\n",
       "      <td>0</td>\n",
       "      <td>41</td>\n",
       "      <td>1</td>\n",
       "    </tr>\n",
       "    <tr>\n",
       "      <th>2</th>\n",
       "      <td>2</td>\n",
       "      <td>5</td>\n",
       "      <td>0</td>\n",
       "      <td>42</td>\n",
       "      <td>1</td>\n",
       "    </tr>\n",
       "    <tr>\n",
       "      <th>3</th>\n",
       "      <td>3</td>\n",
       "      <td>1</td>\n",
       "      <td>0</td>\n",
       "      <td>39</td>\n",
       "      <td>2</td>\n",
       "    </tr>\n",
       "    <tr>\n",
       "      <th>4</th>\n",
       "      <td>4</td>\n",
       "      <td>0</td>\n",
       "      <td>0</td>\n",
       "      <td>43</td>\n",
       "      <td>3</td>\n",
       "    </tr>\n",
       "  </tbody>\n",
       "</table>\n",
       "</div>"
      ],
      "text/plain": [
       "   id  country  gender  age  profession\n",
       "0   0        2       0   42           2\n",
       "1   1        5       0   41           1\n",
       "2   2        5       0   42           1\n",
       "3   3        1       0   39           2\n",
       "4   4        0       0   43           3"
      ]
     },
     "execution_count": 272,
     "metadata": {},
     "output_type": "execute_result"
    }
   ],
   "source": [
    "numeric_features=customers.select_dtypes(include=['int64','float64']).columns\n",
    "categorical_features=customers.select_dtypes(include='object').columns\n",
    "from sklearn.preprocessing import LabelEncoder\n",
    "scale=LabelEncoder() # LabelEncoder encodes target labels with value between 0 and n_classes-1.\n",
    "for i in categorical_features :\n",
    "    customers[i]=scale.fit_transform(customers[i])\n",
    "customers.head()"
   ]
  },
  {
   "cell_type": "markdown",
   "id": "ffa10e58",
   "metadata": {},
   "source": [
    "### Outliers"
   ]
  },
  {
   "cell_type": "code",
   "execution_count": 273,
   "id": "4455897d",
   "metadata": {},
   "outputs": [
    {
     "data": {
      "text/plain": [
       "<AxesSubplot:>"
      ]
     },
     "execution_count": 273,
     "metadata": {},
     "output_type": "execute_result"
    },
    {
     "data": {
      "image/png": "[encoded data removed]",
      "text/plain": [
       "<Figure size 432x288 with 1 Axes>"
      ]
     },
     "metadata": {
      "needs_background": "light"
     },
     "output_type": "display_data"
    }
   ],
   "source": [
    "customers.plot.box()"
   ]
  },
  {
   "cell_type": "markdown",
   "id": "b87b6e15",
   "metadata": {},
   "source": [
    "###### ===> there are only outliers in age."
   ]
  },
  {
   "cell_type": "code",
   "execution_count": 274,
   "id": "22f7136c",
   "metadata": {},
   "outputs": [
    {
     "data": {
      "text/plain": [
       "<AxesSubplot:>"
      ]
     },
     "execution_count": 274,
     "metadata": {},
     "output_type": "execute_result"
    },
    {
     "data": {
      "image/png": "[encoded data removed]",
      "text/plain": [
       "<Figure size 432x288 with 1 Axes>"
      ]
     },
     "metadata": {
      "needs_background": "light"
     },
     "output_type": "display_data"
    }
   ],
   "source": [
    "customers['age'].plot.box()"
   ]
  },
  {
   "cell_type": "markdown",
   "id": "b7678543",
   "metadata": {},
   "source": [
    "###### ===>  There are outliers : age > 62"
   ]
  },
  {
   "cell_type": "markdown",
   "id": "e6e5b47a",
   "metadata": {},
   "source": [
    "#### Removing outliers "
   ]
  },
  {
   "cell_type": "code",
   "execution_count": 275,
   "id": "a45d66aa",
   "metadata": {},
   "outputs": [
    {
     "name": "stdout",
     "output_type": "stream",
     "text": [
      "The total number of data-points after removing the outliers are: 966\n"
     ]
    }
   ],
   "source": [
    "customers = customers[(customers[\"age\"]<=62)]\n",
    "print(\"The total number of data-points after removing the outliers are:\", len(customers))"
   ]
  },
  {
   "cell_type": "code",
   "execution_count": 276,
   "id": "1c344740",
   "metadata": {},
   "outputs": [
    {
     "data": {
      "text/html": [
       "<div>\n",
       "<style scoped>\n",
       "    .dataframe tbody tr th:only-of-type {\n",
       "        vertical-align: middle;\n",
       "    }\n",
       "\n",
       "    .dataframe tbody tr th {\n",
       "        vertical-align: top;\n",
       "    }\n",
       "\n",
       "    .dataframe thead th {\n",
       "        text-align: right;\n",
       "    }\n",
       "</style>\n",
       "<table border=\"1\" class=\"dataframe\">\n",
       "  <thead>\n",
       "    <tr style=\"text-align: right;\">\n",
       "      <th></th>\n",
       "      <th>id</th>\n",
       "      <th>country</th>\n",
       "      <th>gender</th>\n",
       "      <th>age</th>\n",
       "      <th>profession</th>\n",
       "    </tr>\n",
       "  </thead>\n",
       "  <tbody>\n",
       "    <tr>\n",
       "      <th>0</th>\n",
       "      <td>0</td>\n",
       "      <td>2</td>\n",
       "      <td>0</td>\n",
       "      <td>42</td>\n",
       "      <td>2</td>\n",
       "    </tr>\n",
       "    <tr>\n",
       "      <th>1</th>\n",
       "      <td>1</td>\n",
       "      <td>5</td>\n",
       "      <td>0</td>\n",
       "      <td>41</td>\n",
       "      <td>1</td>\n",
       "    </tr>\n",
       "    <tr>\n",
       "      <th>2</th>\n",
       "      <td>2</td>\n",
       "      <td>5</td>\n",
       "      <td>0</td>\n",
       "      <td>42</td>\n",
       "      <td>1</td>\n",
       "    </tr>\n",
       "    <tr>\n",
       "      <th>3</th>\n",
       "      <td>3</td>\n",
       "      <td>1</td>\n",
       "      <td>0</td>\n",
       "      <td>39</td>\n",
       "      <td>2</td>\n",
       "    </tr>\n",
       "    <tr>\n",
       "      <th>4</th>\n",
       "      <td>4</td>\n",
       "      <td>0</td>\n",
       "      <td>0</td>\n",
       "      <td>43</td>\n",
       "      <td>3</td>\n",
       "    </tr>\n",
       "  </tbody>\n",
       "</table>\n",
       "</div>"
      ],
      "text/plain": [
       "   id  country  gender  age  profession\n",
       "0   0        2       0   42           2\n",
       "1   1        5       0   41           1\n",
       "2   2        5       0   42           1\n",
       "3   3        1       0   39           2\n",
       "4   4        0       0   43           3"
      ]
     },
     "execution_count": 276,
     "metadata": {},
     "output_type": "execute_result"
    }
   ],
   "source": [
    "customers.head()"
   ]
  },
  {
   "cell_type": "markdown",
   "id": "bdda1f9a",
   "metadata": {},
   "source": [
    "## Correlation Matrix | Feature selection\n",
    "The correlation coefficient is measured on a scale that varies from + 1 through 0 to – 1. Complete correlation between two variables is expressed by either + 1 or -1."
   ]
  },
  {
   "cell_type": "code",
   "execution_count": 277,
   "id": "0fa8dae4",
   "metadata": {},
   "outputs": [
    {
     "data": {
      "text/html": [
       "<div>\n",
       "<style scoped>\n",
       "    .dataframe tbody tr th:only-of-type {\n",
       "        vertical-align: middle;\n",
       "    }\n",
       "\n",
       "    .dataframe tbody tr th {\n",
       "        vertical-align: top;\n",
       "    }\n",
       "\n",
       "    .dataframe thead th {\n",
       "        text-align: right;\n",
       "    }\n",
       "</style>\n",
       "<table border=\"1\" class=\"dataframe\">\n",
       "  <thead>\n",
       "    <tr style=\"text-align: right;\">\n",
       "      <th></th>\n",
       "      <th>id</th>\n",
       "      <th>country</th>\n",
       "      <th>gender</th>\n",
       "      <th>age</th>\n",
       "      <th>profession</th>\n",
       "    </tr>\n",
       "  </thead>\n",
       "  <tbody>\n",
       "    <tr>\n",
       "      <th>id</th>\n",
       "      <td>1.000000</td>\n",
       "      <td>-0.066276</td>\n",
       "      <td>-0.028325</td>\n",
       "      <td>0.070236</td>\n",
       "      <td>-0.014303</td>\n",
       "    </tr>\n",
       "    <tr>\n",
       "      <th>country</th>\n",
       "      <td>-0.066276</td>\n",
       "      <td>1.000000</td>\n",
       "      <td>-0.009346</td>\n",
       "      <td>-0.047562</td>\n",
       "      <td>0.032239</td>\n",
       "    </tr>\n",
       "    <tr>\n",
       "      <th>gender</th>\n",
       "      <td>-0.028325</td>\n",
       "      <td>-0.009346</td>\n",
       "      <td>1.000000</td>\n",
       "      <td>-0.042629</td>\n",
       "      <td>0.099231</td>\n",
       "    </tr>\n",
       "    <tr>\n",
       "      <th>age</th>\n",
       "      <td>0.070236</td>\n",
       "      <td>-0.047562</td>\n",
       "      <td>-0.042629</td>\n",
       "      <td>1.000000</td>\n",
       "      <td>-0.028528</td>\n",
       "    </tr>\n",
       "    <tr>\n",
       "      <th>profession</th>\n",
       "      <td>-0.014303</td>\n",
       "      <td>0.032239</td>\n",
       "      <td>0.099231</td>\n",
       "      <td>-0.028528</td>\n",
       "      <td>1.000000</td>\n",
       "    </tr>\n",
       "  </tbody>\n",
       "</table>\n",
       "</div>"
      ],
      "text/plain": [
       "                  id   country    gender       age  profession\n",
       "id          1.000000 -0.066276 -0.028325  0.070236   -0.014303\n",
       "country    -0.066276  1.000000 -0.009346 -0.047562    0.032239\n",
       "gender     -0.028325 -0.009346  1.000000 -0.042629    0.099231\n",
       "age         0.070236 -0.047562 -0.042629  1.000000   -0.028528\n",
       "profession -0.014303  0.032239  0.099231 -0.028528    1.000000"
      ]
     },
     "execution_count": 277,
     "metadata": {},
     "output_type": "execute_result"
    }
   ],
   "source": [
    "corr=customers.corr()\n",
    "corr"
   ]
  },
  {
   "cell_type": "markdown",
   "id": "d5b80c6e",
   "metadata": {},
   "source": [
    "#### Display correlation matrix in heatmap"
   ]
  },
  {
   "cell_type": "code",
   "execution_count": 278,
   "id": "5674ce06",
   "metadata": {},
   "outputs": [
    {
     "data": {
      "text/plain": [
       "<AxesSubplot:>"
      ]
     },
     "execution_count": 278,
     "metadata": {},
     "output_type": "execute_result"
    },
    {
     "data": {
      "image/png": "[encoded data removed]",
      "text/plain": [
       "<Figure size 432x288 with 2 Axes>"
      ]
     },
     "metadata": {
      "needs_background": "light"
     },
     "output_type": "display_data"
    }
   ],
   "source": [
    "sns.heatmap(corr,annot=True,cmap='coolwarm')"
   ]
  },
  {
   "cell_type": "markdown",
   "id": "aa21badf",
   "metadata": {},
   "source": [
    "##### From the above output, we can conclude and note that:\n",
    "    - When one variable increases as the other increases the \n",
    "    correlation is positive.\n",
    "    -  Complete correlation between two variables is expressed by either + 1 or -1.\n",
    "    -when one decreases as the other increases it is negative. \n",
    "    - Complete absence of correlation is represented by 0. "
   ]
  },
  {
   "cell_type": "markdown",
   "id": "9c37f62e",
   "metadata": {},
   "source": [
    "## Histogram"
   ]
  },
  {
   "cell_type": "code",
   "execution_count": 279,
   "id": "be46a332",
   "metadata": {},
   "outputs": [
    {
     "data": {
      "image/png": "[encoded data removed]",
      "text/plain": [
       "<Figure size 432x288 with 6 Axes>"
      ]
     },
     "metadata": {
      "needs_background": "light"
     },
     "output_type": "display_data"
    }
   ],
   "source": [
    "customers.hist()\n",
    "plt.subplots_adjust(bottom = 0.1, right = 0.9, top = 0.9, wspace = 1, hspace = 1)"
   ]
  },
  {
   "cell_type": "markdown",
   "id": "d69c5411",
   "metadata": {},
   "source": [
    "## Density Plot"
   ]
  },
  {
   "cell_type": "code",
   "execution_count": 280,
   "id": "d539b44f",
   "metadata": {},
   "outputs": [
    {
     "data": {
      "image/png": "[encoded data removed]",
      "text/plain": [
       "<Figure size 432x288 with 9 Axes>"
      ]
     },
     "metadata": {
      "needs_background": "light"
     },
     "output_type": "display_data"
    }
   ],
   "source": [
    "customers.plot(kind='density',subplots=True,layout=(3,3),sharex=False)\n",
    "plt.subplots_adjust(bottom = 0.1, right = 0.9, top = 0.9, wspace = 1, hspace = 1)"
   ]
  },
  {
   "cell_type": "markdown",
   "id": "a5aa261a",
   "metadata": {},
   "source": [
    "# Products dataset "
   ]
  },
  {
   "cell_type": "code",
   "execution_count": 281,
   "id": "154b248a",
   "metadata": {},
   "outputs": [
    {
     "data": {
      "text/html": [
       "<div>\n",
       "<style scoped>\n",
       "    .dataframe tbody tr th:only-of-type {\n",
       "        vertical-align: middle;\n",
       "    }\n",
       "\n",
       "    .dataframe tbody tr th {\n",
       "        vertical-align: top;\n",
       "    }\n",
       "\n",
       "    .dataframe thead th {\n",
       "        text-align: right;\n",
       "    }\n",
       "</style>\n",
       "<table border=\"1\" class=\"dataframe\">\n",
       "  <thead>\n",
       "    <tr style=\"text-align: right;\">\n",
       "      <th></th>\n",
       "      <th>id</th>\n",
       "      <th>name</th>\n",
       "      <th>category</th>\n",
       "      <th>price</th>\n",
       "    </tr>\n",
       "  </thead>\n",
       "  <tbody>\n",
       "    <tr>\n",
       "      <th>0</th>\n",
       "      <td>PT-0001</td>\n",
       "      <td>Dual-Band / Tri-Mode Sprint PCS Phone w/ Voice...</td>\n",
       "      <td>High-Tech</td>\n",
       "      <td>700</td>\n",
       "    </tr>\n",
       "    <tr>\n",
       "      <th>1</th>\n",
       "      <td>PT-0002</td>\n",
       "      <td>Motorola I265 phone</td>\n",
       "      <td>High-Tech</td>\n",
       "      <td>650</td>\n",
       "    </tr>\n",
       "    <tr>\n",
       "      <th>2</th>\n",
       "      <td>PT-0003</td>\n",
       "      <td>MOTOROLA C168i AT&amp;T CINGULAR PREPAID GOPHONE C...</td>\n",
       "      <td>High-Tech</td>\n",
       "      <td>890</td>\n",
       "    </tr>\n",
       "    <tr>\n",
       "      <th>3</th>\n",
       "      <td>PT-0004</td>\n",
       "      <td>Motorola i335 Cell Phone Boost Mobile</td>\n",
       "      <td>High-Tech</td>\n",
       "      <td>900</td>\n",
       "    </tr>\n",
       "    <tr>\n",
       "      <th>4</th>\n",
       "      <td>PT-0005</td>\n",
       "      <td>Motorola V365 no contract cellular phone AT&amp;T</td>\n",
       "      <td>High-Tech</td>\n",
       "      <td>400</td>\n",
       "    </tr>\n",
       "  </tbody>\n",
       "</table>\n",
       "</div>"
      ],
      "text/plain": [
       "        id                                               name   category  \\\n",
       "0  PT-0001  Dual-Band / Tri-Mode Sprint PCS Phone w/ Voice...  High-Tech   \n",
       "1  PT-0002                                Motorola I265 phone  High-Tech   \n",
       "2  PT-0003  MOTOROLA C168i AT&T CINGULAR PREPAID GOPHONE C...  High-Tech   \n",
       "3  PT-0004              Motorola i335 Cell Phone Boost Mobile  High-Tech   \n",
       "4  PT-0005      Motorola V365 no contract cellular phone AT&T  High-Tech   \n",
       "\n",
       "   price  \n",
       "0    700  \n",
       "1    650  \n",
       "2    890  \n",
       "3    900  \n",
       "4    400  "
      ]
     },
     "execution_count": 281,
     "metadata": {},
     "output_type": "execute_result"
    }
   ],
   "source": [
    "products.head()"
   ]
  },
  {
   "cell_type": "code",
   "execution_count": 282,
   "id": "a8482159",
   "metadata": {},
   "outputs": [
    {
     "data": {
      "text/plain": [
       "(794, 4)"
      ]
     },
     "execution_count": 282,
     "metadata": {},
     "output_type": "execute_result"
    }
   ],
   "source": [
    "products.shape"
   ]
  },
  {
   "cell_type": "markdown",
   "id": "8319fe26",
   "metadata": {},
   "source": [
    "#### ====> The table of products have 794 rows and 4 columns."
   ]
  },
  {
   "cell_type": "markdown",
   "id": "f32827df",
   "metadata": {},
   "source": [
    "## Min | Max | Mean"
   ]
  },
  {
   "cell_type": "code",
   "execution_count": 283,
   "id": "d8a24e91",
   "metadata": {
    "scrolled": true
   },
   "outputs": [
    {
     "data": {
      "text/html": [
       "<div>\n",
       "<style scoped>\n",
       "    .dataframe tbody tr th:only-of-type {\n",
       "        vertical-align: middle;\n",
       "    }\n",
       "\n",
       "    .dataframe tbody tr th {\n",
       "        vertical-align: top;\n",
       "    }\n",
       "\n",
       "    .dataframe thead th {\n",
       "        text-align: right;\n",
       "    }\n",
       "</style>\n",
       "<table border=\"1\" class=\"dataframe\">\n",
       "  <thead>\n",
       "    <tr style=\"text-align: right;\">\n",
       "      <th></th>\n",
       "      <th>price</th>\n",
       "    </tr>\n",
       "  </thead>\n",
       "  <tbody>\n",
       "    <tr>\n",
       "      <th>count</th>\n",
       "      <td>794.000000</td>\n",
       "    </tr>\n",
       "    <tr>\n",
       "      <th>mean</th>\n",
       "      <td>513.532746</td>\n",
       "    </tr>\n",
       "    <tr>\n",
       "      <th>std</th>\n",
       "      <td>280.395833</td>\n",
       "    </tr>\n",
       "    <tr>\n",
       "      <th>min</th>\n",
       "      <td>75.000000</td>\n",
       "    </tr>\n",
       "    <tr>\n",
       "      <th>25%</th>\n",
       "      <td>210.000000</td>\n",
       "    </tr>\n",
       "    <tr>\n",
       "      <th>50%</th>\n",
       "      <td>600.000000</td>\n",
       "    </tr>\n",
       "    <tr>\n",
       "      <th>75%</th>\n",
       "      <td>740.000000</td>\n",
       "    </tr>\n",
       "    <tr>\n",
       "      <th>max</th>\n",
       "      <td>900.000000</td>\n",
       "    </tr>\n",
       "  </tbody>\n",
       "</table>\n",
       "</div>"
      ],
      "text/plain": [
       "            price\n",
       "count  794.000000\n",
       "mean   513.532746\n",
       "std    280.395833\n",
       "min     75.000000\n",
       "25%    210.000000\n",
       "50%    600.000000\n",
       "75%    740.000000\n",
       "max    900.000000"
      ]
     },
     "execution_count": 283,
     "metadata": {},
     "output_type": "execute_result"
    }
   ],
   "source": [
    "products.describe()"
   ]
  },
  {
   "cell_type": "markdown",
   "id": "d53a96d3",
   "metadata": {},
   "source": [
    "##### conclusion : \n",
    "      - the price goes from 75  to 900 years old \n",
    "      - the average age is about 513.53\n",
    "      - the standard deviation is about 280.39"
   ]
  },
  {
   "cell_type": "markdown",
   "id": "8b436167",
   "metadata": {},
   "source": [
    "### informations on features"
   ]
  },
  {
   "cell_type": "code",
   "execution_count": 284,
   "id": "fad0e098",
   "metadata": {},
   "outputs": [
    {
     "name": "stdout",
     "output_type": "stream",
     "text": [
      "<class 'pandas.core.frame.DataFrame'>\n",
      "RangeIndex: 794 entries, 0 to 793\n",
      "Data columns (total 4 columns):\n",
      " #   Column    Non-Null Count  Dtype \n",
      "---  ------    --------------  ----- \n",
      " 0   id        794 non-null    object\n",
      " 1   name      794 non-null    object\n",
      " 2   category  794 non-null    object\n",
      " 3   price     794 non-null    int64 \n",
      "dtypes: int64(1), object(3)\n",
      "memory usage: 24.9+ KB\n"
     ]
    }
   ],
   "source": [
    "products.info()"
   ]
  },
  {
   "cell_type": "markdown",
   "id": "5489dea1",
   "metadata": {},
   "source": [
    "## Data Cleaning"
   ]
  },
  {
   "cell_type": "markdown",
   "id": "4ae5ad26",
   "metadata": {},
   "source": [
    "### Missing values\n"
   ]
  },
  {
   "cell_type": "code",
   "execution_count": 285,
   "id": "fb65f57a",
   "metadata": {},
   "outputs": [
    {
     "data": {
      "text/plain": [
       "id          0\n",
       "name        0\n",
       "category    0\n",
       "price       0\n",
       "dtype: int64"
      ]
     },
     "execution_count": 285,
     "metadata": {},
     "output_type": "execute_result"
    }
   ],
   "source": [
    "products.isnull().sum()"
   ]
  },
  {
   "cell_type": "markdown",
   "id": "cc027164",
   "metadata": {},
   "source": [
    "##### ===> From the above output, we can conclude and note that:\n",
    "    - there is missing values"
   ]
  },
  {
   "cell_type": "code",
   "execution_count": 286,
   "id": "136bf608",
   "metadata": {},
   "outputs": [
    {
     "name": "stdout",
     "output_type": "stream",
     "text": [
      "The total number of data-points after removing the rows with missing values are: 794\n"
     ]
    }
   ],
   "source": [
    "products = products.dropna()\n",
    "print(\"The total number of data-points after removing the rows with missing values are:\", len(products))"
   ]
  },
  {
   "cell_type": "markdown",
   "id": "673e646d",
   "metadata": {},
   "source": [
    "### Encoding categorical values \n"
   ]
  },
  {
   "cell_type": "code",
   "execution_count": 287,
   "id": "45516351",
   "metadata": {},
   "outputs": [
    {
     "data": {
      "text/plain": [
       "id          object\n",
       "name        object\n",
       "category    object\n",
       "price        int64\n",
       "dtype: object"
      ]
     },
     "execution_count": 287,
     "metadata": {},
     "output_type": "execute_result"
    }
   ],
   "source": [
    "products.dtypes"
   ]
  },
  {
   "cell_type": "markdown",
   "id": "25ff7a7d",
   "metadata": {},
   "source": [
    "###### ===>  There are some categorical features in our data frame; as there are some features in dtype: object). \n",
    "######     So we will need to encode them into numeric forms later(id,name,category)."
   ]
  },
  {
   "cell_type": "code",
   "execution_count": 289,
   "id": "9a9648cb",
   "metadata": {},
   "outputs": [
    {
     "data": {
      "text/html": [
       "<div>\n",
       "<style scoped>\n",
       "    .dataframe tbody tr th:only-of-type {\n",
       "        vertical-align: middle;\n",
       "    }\n",
       "\n",
       "    .dataframe tbody tr th {\n",
       "        vertical-align: top;\n",
       "    }\n",
       "\n",
       "    .dataframe thead th {\n",
       "        text-align: right;\n",
       "    }\n",
       "</style>\n",
       "<table border=\"1\" class=\"dataframe\">\n",
       "  <thead>\n",
       "    <tr style=\"text-align: right;\">\n",
       "      <th></th>\n",
       "      <th>id</th>\n",
       "      <th>name</th>\n",
       "      <th>category</th>\n",
       "      <th>price</th>\n",
       "    </tr>\n",
       "  </thead>\n",
       "  <tbody>\n",
       "    <tr>\n",
       "      <th>0</th>\n",
       "      <td>0</td>\n",
       "      <td>116</td>\n",
       "      <td>0</td>\n",
       "      <td>700</td>\n",
       "    </tr>\n",
       "    <tr>\n",
       "      <th>1</th>\n",
       "      <td>1</td>\n",
       "      <td>287</td>\n",
       "      <td>0</td>\n",
       "      <td>650</td>\n",
       "    </tr>\n",
       "    <tr>\n",
       "      <th>2</th>\n",
       "      <td>2</td>\n",
       "      <td>247</td>\n",
       "      <td>0</td>\n",
       "      <td>890</td>\n",
       "    </tr>\n",
       "    <tr>\n",
       "      <th>3</th>\n",
       "      <td>3</td>\n",
       "      <td>321</td>\n",
       "      <td>0</td>\n",
       "      <td>900</td>\n",
       "    </tr>\n",
       "    <tr>\n",
       "      <th>4</th>\n",
       "      <td>4</td>\n",
       "      <td>313</td>\n",
       "      <td>0</td>\n",
       "      <td>400</td>\n",
       "    </tr>\n",
       "  </tbody>\n",
       "</table>\n",
       "</div>"
      ],
      "text/plain": [
       "   id  name  category  price\n",
       "0   0   116         0    700\n",
       "1   1   287         0    650\n",
       "2   2   247         0    890\n",
       "3   3   321         0    900\n",
       "4   4   313         0    400"
      ]
     },
     "execution_count": 289,
     "metadata": {},
     "output_type": "execute_result"
    }
   ],
   "source": [
    "numeric_features1=products.select_dtypes(include=['int64','float64']).columns\n",
    "categorical_features1=products.select_dtypes(include='object').columns\n",
    "from sklearn.preprocessing import LabelEncoder\n",
    "scale=LabelEncoder()\n",
    "for i in categorical_features1 :\n",
    "    products[i]=scale.fit_transform(products[i])\n",
    "products.head()"
   ]
  },
  {
   "cell_type": "markdown",
   "id": "88b0f978",
   "metadata": {},
   "source": [
    "### Outliers"
   ]
  },
  {
   "cell_type": "code",
   "execution_count": 290,
   "id": "5ae91bda",
   "metadata": {},
   "outputs": [
    {
     "data": {
      "text/plain": [
       "<AxesSubplot:>"
      ]
     },
     "execution_count": 290,
     "metadata": {},
     "output_type": "execute_result"
    },
    {
     "data": {
      "image/png": "[encoded data removed]",
      "text/plain": [
       "<Figure size 432x288 with 1 Axes>"
      ]
     },
     "metadata": {
      "needs_background": "light"
     },
     "output_type": "display_data"
    }
   ],
   "source": [
    "products.plot.box()"
   ]
  },
  {
   "cell_type": "markdown",
   "id": "589064d1",
   "metadata": {},
   "source": [
    "###### ===> There are no outliers in this dataset."
   ]
  },
  {
   "cell_type": "markdown",
   "id": "e1c047b6",
   "metadata": {},
   "source": [
    "## Correlation Matrix | Feature selection\n",
    "The correlation coefficient is measured on a scale that varies from + 1 through 0 to – 1. Complete correlation between two variables is expressed by either + 1 or -1."
   ]
  },
  {
   "cell_type": "code",
   "execution_count": 291,
   "id": "6c613ab0",
   "metadata": {},
   "outputs": [
    {
     "data": {
      "text/html": [
       "<div>\n",
       "<style scoped>\n",
       "    .dataframe tbody tr th:only-of-type {\n",
       "        vertical-align: middle;\n",
       "    }\n",
       "\n",
       "    .dataframe tbody tr th {\n",
       "        vertical-align: top;\n",
       "    }\n",
       "\n",
       "    .dataframe thead th {\n",
       "        text-align: right;\n",
       "    }\n",
       "</style>\n",
       "<table border=\"1\" class=\"dataframe\">\n",
       "  <thead>\n",
       "    <tr style=\"text-align: right;\">\n",
       "      <th></th>\n",
       "      <th>id</th>\n",
       "      <th>name</th>\n",
       "      <th>category</th>\n",
       "      <th>price</th>\n",
       "    </tr>\n",
       "  </thead>\n",
       "  <tbody>\n",
       "    <tr>\n",
       "      <th>id</th>\n",
       "      <td>1.000000</td>\n",
       "      <td>-0.103168</td>\n",
       "      <td>0.696130</td>\n",
       "      <td>-0.758245</td>\n",
       "    </tr>\n",
       "    <tr>\n",
       "      <th>name</th>\n",
       "      <td>-0.103168</td>\n",
       "      <td>1.000000</td>\n",
       "      <td>-0.121287</td>\n",
       "      <td>0.096959</td>\n",
       "    </tr>\n",
       "    <tr>\n",
       "      <th>category</th>\n",
       "      <td>0.696130</td>\n",
       "      <td>-0.121287</td>\n",
       "      <td>1.000000</td>\n",
       "      <td>-0.793146</td>\n",
       "    </tr>\n",
       "    <tr>\n",
       "      <th>price</th>\n",
       "      <td>-0.758245</td>\n",
       "      <td>0.096959</td>\n",
       "      <td>-0.793146</td>\n",
       "      <td>1.000000</td>\n",
       "    </tr>\n",
       "  </tbody>\n",
       "</table>\n",
       "</div>"
      ],
      "text/plain": [
       "                id      name  category     price\n",
       "id        1.000000 -0.103168  0.696130 -0.758245\n",
       "name     -0.103168  1.000000 -0.121287  0.096959\n",
       "category  0.696130 -0.121287  1.000000 -0.793146\n",
       "price    -0.758245  0.096959 -0.793146  1.000000"
      ]
     },
     "execution_count": 291,
     "metadata": {},
     "output_type": "execute_result"
    }
   ],
   "source": [
    "corr1=products.corr()\n",
    "corr1"
   ]
  },
  {
   "cell_type": "markdown",
   "id": "c71edfe6",
   "metadata": {},
   "source": [
    "#### Display correlation matrix in heatmap"
   ]
  },
  {
   "cell_type": "code",
   "execution_count": 292,
   "id": "abb612f6",
   "metadata": {},
   "outputs": [
    {
     "data": {
      "text/plain": [
       "<AxesSubplot:>"
      ]
     },
     "execution_count": 292,
     "metadata": {},
     "output_type": "execute_result"
    },
    {
     "data": {
      "image/png": "[encoded data removed]",
      "text/plain": [
       "<Figure size 432x288 with 2 Axes>"
      ]
     },
     "metadata": {
      "needs_background": "light"
     },
     "output_type": "display_data"
    }
   ],
   "source": [
    "sns.heatmap(corr1,annot=True,cmap='coolwarm')"
   ]
  },
  {
   "cell_type": "markdown",
   "id": "e8685403",
   "metadata": {},
   "source": [
    "##### From the above output, we can conclude and note that:\n",
    "    - When one variable increases as the other increases the \n",
    "    correlation is positive.\n",
    "    -  Complete correlation between two variables is expressed by either + 1 or -1.\n",
    "    -when one decreases as the other increases it is negative. \n",
    "    - Complete absence of correlation is represented by 0. "
   ]
  },
  {
   "cell_type": "markdown",
   "id": "a68c13c8",
   "metadata": {},
   "source": [
    "## Histogram"
   ]
  },
  {
   "cell_type": "code",
   "execution_count": 293,
   "id": "825bc545",
   "metadata": {},
   "outputs": [
    {
     "data": {
      "image/png": "[encoded data removed]",
      "text/plain": [
       "<Figure size 432x288 with 4 Axes>"
      ]
     },
     "metadata": {
      "needs_background": "light"
     },
     "output_type": "display_data"
    }
   ],
   "source": [
    "products.hist()\n",
    "plt.subplots_adjust(bottom = 0.1, right = 0.9, top = 0.9, wspace = 1, hspace = 1)"
   ]
  },
  {
   "cell_type": "markdown",
   "id": "0fb41ffd",
   "metadata": {},
   "source": [
    "## Density Plot"
   ]
  },
  {
   "cell_type": "code",
   "execution_count": 294,
   "id": "b9027f77",
   "metadata": {},
   "outputs": [
    {
     "data": {
      "image/png": "[encoded data removed]",
      "text/plain": [
       "<Figure size 432x288 with 9 Axes>"
      ]
     },
     "metadata": {
      "needs_background": "light"
     },
     "output_type": "display_data"
    }
   ],
   "source": [
    "products.plot(kind='density',subplots=True,layout=(3,3),sharex=False)\n",
    "plt.subplots_adjust(bottom = 0.1, right = 0.9, top = 0.9, wspace = 1, hspace = 1)"
   ]
  },
  {
   "cell_type": "markdown",
   "id": "e61896e6",
   "metadata": {},
   "source": [
    "#  Sales dataset"
   ]
  },
  {
   "cell_type": "code",
   "execution_count": 295,
   "id": "82f80fef",
   "metadata": {},
   "outputs": [
    {
     "data": {
      "text/html": [
       "<div>\n",
       "<style scoped>\n",
       "    .dataframe tbody tr th:only-of-type {\n",
       "        vertical-align: middle;\n",
       "    }\n",
       "\n",
       "    .dataframe tbody tr th {\n",
       "        vertical-align: top;\n",
       "    }\n",
       "\n",
       "    .dataframe thead th {\n",
       "        text-align: right;\n",
       "    }\n",
       "</style>\n",
       "<table border=\"1\" class=\"dataframe\">\n",
       "  <thead>\n",
       "    <tr style=\"text-align: right;\">\n",
       "      <th></th>\n",
       "      <th>customerID</th>\n",
       "      <th>productID</th>\n",
       "      <th>amount</th>\n",
       "      <th>Sdate</th>\n",
       "    </tr>\n",
       "  </thead>\n",
       "  <tbody>\n",
       "    <tr>\n",
       "      <th>0</th>\n",
       "      <td>CT-0001</td>\n",
       "      <td>PT-0565</td>\n",
       "      <td>350.0</td>\n",
       "      <td>25/08/2020</td>\n",
       "    </tr>\n",
       "    <tr>\n",
       "      <th>1</th>\n",
       "      <td>CT-0001</td>\n",
       "      <td>PT-0565</td>\n",
       "      <td>350.0</td>\n",
       "      <td>12/10/2020</td>\n",
       "    </tr>\n",
       "    <tr>\n",
       "      <th>2</th>\n",
       "      <td>CT-0001</td>\n",
       "      <td>PT-0574</td>\n",
       "      <td>140.0</td>\n",
       "      <td>06/12/2021</td>\n",
       "    </tr>\n",
       "    <tr>\n",
       "      <th>3</th>\n",
       "      <td>CT-0001</td>\n",
       "      <td>PT-0574</td>\n",
       "      <td>140.0</td>\n",
       "      <td>19/02/2021</td>\n",
       "    </tr>\n",
       "    <tr>\n",
       "      <th>4</th>\n",
       "      <td>CT-0001</td>\n",
       "      <td>PT-0574</td>\n",
       "      <td>140.0</td>\n",
       "      <td>10/04/2021</td>\n",
       "    </tr>\n",
       "  </tbody>\n",
       "</table>\n",
       "</div>"
      ],
      "text/plain": [
       "  customerID productID  amount       Sdate\n",
       "0    CT-0001   PT-0565   350.0  25/08/2020\n",
       "1    CT-0001   PT-0565   350.0  12/10/2020\n",
       "2    CT-0001   PT-0574   140.0  06/12/2021\n",
       "3    CT-0001   PT-0574   140.0  19/02/2021\n",
       "4    CT-0001   PT-0574   140.0  10/04/2021"
      ]
     },
     "execution_count": 295,
     "metadata": {},
     "output_type": "execute_result"
    }
   ],
   "source": [
    "sales.head()"
   ]
  },
  {
   "cell_type": "code",
   "execution_count": 296,
   "id": "33057fc8",
   "metadata": {},
   "outputs": [
    {
     "data": {
      "text/plain": [
       "(3090, 4)"
      ]
     },
     "execution_count": 296,
     "metadata": {},
     "output_type": "execute_result"
    }
   ],
   "source": [
    "sales.shape"
   ]
  },
  {
   "cell_type": "markdown",
   "id": "32105160",
   "metadata": {},
   "source": [
    "#### =====> The table of sales have 3090 rows and 4 columns."
   ]
  },
  {
   "cell_type": "markdown",
   "id": "e9578f53",
   "metadata": {},
   "source": [
    "## Mean | Max | Min"
   ]
  },
  {
   "cell_type": "code",
   "execution_count": 297,
   "id": "e56ddffd",
   "metadata": {},
   "outputs": [
    {
     "data": {
      "text/html": [
       "<div>\n",
       "<style scoped>\n",
       "    .dataframe tbody tr th:only-of-type {\n",
       "        vertical-align: middle;\n",
       "    }\n",
       "\n",
       "    .dataframe tbody tr th {\n",
       "        vertical-align: top;\n",
       "    }\n",
       "\n",
       "    .dataframe thead th {\n",
       "        text-align: right;\n",
       "    }\n",
       "</style>\n",
       "<table border=\"1\" class=\"dataframe\">\n",
       "  <thead>\n",
       "    <tr style=\"text-align: right;\">\n",
       "      <th></th>\n",
       "      <th>amount</th>\n",
       "    </tr>\n",
       "  </thead>\n",
       "  <tbody>\n",
       "    <tr>\n",
       "      <th>count</th>\n",
       "      <td>3014.000000</td>\n",
       "    </tr>\n",
       "    <tr>\n",
       "      <th>mean</th>\n",
       "      <td>373.331453</td>\n",
       "    </tr>\n",
       "    <tr>\n",
       "      <th>std</th>\n",
       "      <td>286.479766</td>\n",
       "    </tr>\n",
       "    <tr>\n",
       "      <th>min</th>\n",
       "      <td>75.000000</td>\n",
       "    </tr>\n",
       "    <tr>\n",
       "      <th>25%</th>\n",
       "      <td>190.000000</td>\n",
       "    </tr>\n",
       "    <tr>\n",
       "      <th>50%</th>\n",
       "      <td>210.000000</td>\n",
       "    </tr>\n",
       "    <tr>\n",
       "      <th>75%</th>\n",
       "      <td>550.000000</td>\n",
       "    </tr>\n",
       "    <tr>\n",
       "      <th>max</th>\n",
       "      <td>990.000000</td>\n",
       "    </tr>\n",
       "  </tbody>\n",
       "</table>\n",
       "</div>"
      ],
      "text/plain": [
       "            amount\n",
       "count  3014.000000\n",
       "mean    373.331453\n",
       "std     286.479766\n",
       "min      75.000000\n",
       "25%     190.000000\n",
       "50%     210.000000\n",
       "75%     550.000000\n",
       "max     990.000000"
      ]
     },
     "execution_count": 297,
     "metadata": {},
     "output_type": "execute_result"
    }
   ],
   "source": [
    "sales.describe()"
   ]
  },
  {
   "cell_type": "markdown",
   "id": "9a0b3d37",
   "metadata": {},
   "source": [
    "##### conclusion : \n",
    "      - the amount of sales goes from 75 to 990 years old \n",
    "      - the average amount is about 373.33\n",
    "      - the standard deviation is about 286.47"
   ]
  },
  {
   "cell_type": "markdown",
   "id": "b5faab05",
   "metadata": {},
   "source": [
    "### informations on features"
   ]
  },
  {
   "cell_type": "code",
   "execution_count": 298,
   "id": "265e8776",
   "metadata": {},
   "outputs": [
    {
     "name": "stdout",
     "output_type": "stream",
     "text": [
      "<class 'pandas.core.frame.DataFrame'>\n",
      "RangeIndex: 3090 entries, 0 to 3089\n",
      "Data columns (total 4 columns):\n",
      " #   Column      Non-Null Count  Dtype  \n",
      "---  ------      --------------  -----  \n",
      " 0   customerID  3015 non-null   object \n",
      " 1   productID   3014 non-null   object \n",
      " 2   amount      3014 non-null   float64\n",
      " 3   Sdate       3015 non-null   object \n",
      "dtypes: float64(1), object(3)\n",
      "memory usage: 96.7+ KB\n"
     ]
    }
   ],
   "source": [
    "sales.info()"
   ]
  },
  {
   "cell_type": "markdown",
   "id": "0c2225bb",
   "metadata": {},
   "source": [
    "##### ===> Sdate that indicates the date of a sale is not parsed as DateTime"
   ]
  },
  {
   "cell_type": "markdown",
   "id": "f1dd9215",
   "metadata": {},
   "source": [
    "## Data Cleaning"
   ]
  },
  {
   "cell_type": "markdown",
   "id": "4c6b0995",
   "metadata": {},
   "source": [
    "### Convert the type of Sdate to DateTime"
   ]
  },
  {
   "cell_type": "code",
   "execution_count": 300,
   "id": "48efc945",
   "metadata": {},
   "outputs": [
    {
     "data": {
      "text/html": [
       "<div>\n",
       "<style scoped>\n",
       "    .dataframe tbody tr th:only-of-type {\n",
       "        vertical-align: middle;\n",
       "    }\n",
       "\n",
       "    .dataframe tbody tr th {\n",
       "        vertical-align: top;\n",
       "    }\n",
       "\n",
       "    .dataframe thead th {\n",
       "        text-align: right;\n",
       "    }\n",
       "</style>\n",
       "<table border=\"1\" class=\"dataframe\">\n",
       "  <thead>\n",
       "    <tr style=\"text-align: right;\">\n",
       "      <th></th>\n",
       "      <th>customerID</th>\n",
       "      <th>productID</th>\n",
       "      <th>amount</th>\n",
       "      <th>Sdate</th>\n",
       "    </tr>\n",
       "  </thead>\n",
       "  <tbody>\n",
       "    <tr>\n",
       "      <th>0</th>\n",
       "      <td>CT-0001</td>\n",
       "      <td>PT-0565</td>\n",
       "      <td>350.0</td>\n",
       "      <td>2020-08-25</td>\n",
       "    </tr>\n",
       "    <tr>\n",
       "      <th>1</th>\n",
       "      <td>CT-0001</td>\n",
       "      <td>PT-0565</td>\n",
       "      <td>350.0</td>\n",
       "      <td>2020-12-10</td>\n",
       "    </tr>\n",
       "    <tr>\n",
       "      <th>2</th>\n",
       "      <td>CT-0001</td>\n",
       "      <td>PT-0574</td>\n",
       "      <td>140.0</td>\n",
       "      <td>2021-06-12</td>\n",
       "    </tr>\n",
       "    <tr>\n",
       "      <th>3</th>\n",
       "      <td>CT-0001</td>\n",
       "      <td>PT-0574</td>\n",
       "      <td>140.0</td>\n",
       "      <td>2021-02-19</td>\n",
       "    </tr>\n",
       "    <tr>\n",
       "      <th>4</th>\n",
       "      <td>CT-0001</td>\n",
       "      <td>PT-0574</td>\n",
       "      <td>140.0</td>\n",
       "      <td>2021-10-04</td>\n",
       "    </tr>\n",
       "  </tbody>\n",
       "</table>\n",
       "</div>"
      ],
      "text/plain": [
       "  customerID productID  amount      Sdate\n",
       "0    CT-0001   PT-0565   350.0 2020-08-25\n",
       "1    CT-0001   PT-0565   350.0 2020-12-10\n",
       "2    CT-0001   PT-0574   140.0 2021-06-12\n",
       "3    CT-0001   PT-0574   140.0 2021-02-19\n",
       "4    CT-0001   PT-0574   140.0 2021-10-04"
      ]
     },
     "execution_count": 300,
     "metadata": {},
     "output_type": "execute_result"
    }
   ],
   "source": [
    "sales[\"Sdate\"] = pd.to_datetime(sales[\"Sdate\"])\n",
    "sales.head()"
   ]
  },
  {
   "cell_type": "code",
   "execution_count": 301,
   "id": "126344ed",
   "metadata": {},
   "outputs": [
    {
     "data": {
      "text/plain": [
       "customerID            object\n",
       "productID             object\n",
       "amount               float64\n",
       "Sdate         datetime64[ns]\n",
       "dtype: object"
      ]
     },
     "execution_count": 301,
     "metadata": {},
     "output_type": "execute_result"
    }
   ],
   "source": [
    "sales.dtypes"
   ]
  },
  {
   "cell_type": "markdown",
   "id": "ea0203d1",
   "metadata": {},
   "source": [
    "#### ===> Now, Sdate is of type datetime"
   ]
  },
  {
   "cell_type": "markdown",
   "id": "616d9a84",
   "metadata": {},
   "source": [
    "### Missing values"
   ]
  },
  {
   "cell_type": "code",
   "execution_count": 302,
   "id": "7b726b54",
   "metadata": {},
   "outputs": [
    {
     "data": {
      "text/plain": [
       "customerID    75\n",
       "productID     76\n",
       "amount        76\n",
       "Sdate         75\n",
       "dtype: int64"
      ]
     },
     "execution_count": 302,
     "metadata": {},
     "output_type": "execute_result"
    }
   ],
   "source": [
    "sales.isnull().sum()"
   ]
  },
  {
   "cell_type": "code",
   "execution_count": 303,
   "id": "1213dd53",
   "metadata": {},
   "outputs": [
    {
     "name": "stdout",
     "output_type": "stream",
     "text": [
      "The total number of data-points after removing the rows with missing values are: 3014\n"
     ]
    }
   ],
   "source": [
    "sales = sales.dropna()\n",
    "print(\"The total number of data-points after removing the rows with missing values are:\", len(sales))"
   ]
  },
  {
   "cell_type": "markdown",
   "id": "72e7707b",
   "metadata": {},
   "source": [
    "##### From the above output, we can conclude and note that:\n",
    "    - there is missing values\n"
   ]
  },
  {
   "cell_type": "markdown",
   "id": "16c2bba3",
   "metadata": {},
   "source": [
    "### Encoding categorical values "
   ]
  },
  {
   "cell_type": "code",
   "execution_count": 304,
   "id": "fc738aa4",
   "metadata": {},
   "outputs": [
    {
     "data": {
      "text/plain": [
       "customerID            object\n",
       "productID             object\n",
       "amount               float64\n",
       "Sdate         datetime64[ns]\n",
       "dtype: object"
      ]
     },
     "execution_count": 304,
     "metadata": {},
     "output_type": "execute_result"
    }
   ],
   "source": [
    "sales.dtypes "
   ]
  },
  {
   "cell_type": "markdown",
   "id": "c2dad3ff",
   "metadata": {},
   "source": [
    "###### ===> There are some categorical features in our data frame; as there are some features in dtype: object). \n",
    "###### So we will need to encode them into numeric forms later(customerID,productID,Sdate)."
   ]
  },
  {
   "cell_type": "code",
   "execution_count": 305,
   "id": "a0c7ef27",
   "metadata": {},
   "outputs": [
    {
     "data": {
      "text/html": [
       "<div>\n",
       "<style scoped>\n",
       "    .dataframe tbody tr th:only-of-type {\n",
       "        vertical-align: middle;\n",
       "    }\n",
       "\n",
       "    .dataframe tbody tr th {\n",
       "        vertical-align: top;\n",
       "    }\n",
       "\n",
       "    .dataframe thead th {\n",
       "        text-align: right;\n",
       "    }\n",
       "</style>\n",
       "<table border=\"1\" class=\"dataframe\">\n",
       "  <thead>\n",
       "    <tr style=\"text-align: right;\">\n",
       "      <th></th>\n",
       "      <th>customerID</th>\n",
       "      <th>productID</th>\n",
       "      <th>amount</th>\n",
       "      <th>Sdate</th>\n",
       "    </tr>\n",
       "  </thead>\n",
       "  <tbody>\n",
       "    <tr>\n",
       "      <th>0</th>\n",
       "      <td>1</td>\n",
       "      <td>219</td>\n",
       "      <td>350.0</td>\n",
       "      <td>42</td>\n",
       "    </tr>\n",
       "    <tr>\n",
       "      <th>1</th>\n",
       "      <td>1</td>\n",
       "      <td>219</td>\n",
       "      <td>350.0</td>\n",
       "      <td>118</td>\n",
       "    </tr>\n",
       "    <tr>\n",
       "      <th>2</th>\n",
       "      <td>1</td>\n",
       "      <td>228</td>\n",
       "      <td>140.0</td>\n",
       "      <td>292</td>\n",
       "    </tr>\n",
       "    <tr>\n",
       "      <th>3</th>\n",
       "      <td>1</td>\n",
       "      <td>228</td>\n",
       "      <td>140.0</td>\n",
       "      <td>183</td>\n",
       "    </tr>\n",
       "    <tr>\n",
       "      <th>4</th>\n",
       "      <td>1</td>\n",
       "      <td>228</td>\n",
       "      <td>140.0</td>\n",
       "      <td>401</td>\n",
       "    </tr>\n",
       "  </tbody>\n",
       "</table>\n",
       "</div>"
      ],
      "text/plain": [
       "   customerID  productID  amount  Sdate\n",
       "0           1        219   350.0     42\n",
       "1           1        219   350.0    118\n",
       "2           1        228   140.0    292\n",
       "3           1        228   140.0    183\n",
       "4           1        228   140.0    401"
      ]
     },
     "execution_count": 305,
     "metadata": {},
     "output_type": "execute_result"
    }
   ],
   "source": [
    "numeric_features2=sales.select_dtypes(include=['int64','float64']).columns\n",
    "categorical_features2=sales.select_dtypes(include=['object','datetime64[ns]']).columns\n",
    "from sklearn.preprocessing import LabelEncoder\n",
    "scale=LabelEncoder()\n",
    "for i in categorical_features2 :\n",
    "    sales[i]=scale.fit_transform(sales[i])\n",
    "sales.head()"
   ]
  },
  {
   "cell_type": "markdown",
   "id": "68c2d70c",
   "metadata": {},
   "source": [
    "### Outliers"
   ]
  },
  {
   "cell_type": "code",
   "execution_count": 306,
   "id": "c0478696",
   "metadata": {},
   "outputs": [
    {
     "data": {
      "text/plain": [
       "<AxesSubplot:>"
      ]
     },
     "execution_count": 306,
     "metadata": {},
     "output_type": "execute_result"
    },
    {
     "data": {
      "image/png": "[encoded data removed]",
      "text/plain": [
       "<Figure size 432x288 with 1 Axes>"
      ]
     },
     "metadata": {
      "needs_background": "light"
     },
     "output_type": "display_data"
    }
   ],
   "source": [
    "sales.plot.box()"
   ]
  },
  {
   "cell_type": "markdown",
   "id": "971edc60",
   "metadata": {},
   "source": [
    "###### ===> There are no outliers in this dataset."
   ]
  },
  {
   "cell_type": "markdown",
   "id": "d6a4b790",
   "metadata": {},
   "source": [
    "## Correlation Matrix | Feature selection\n",
    "The correlation coefficient is measured on a scale that varies from + 1 through 0 to – 1. Complete correlation between two variables is expressed by either + 1 or -1."
   ]
  },
  {
   "cell_type": "code",
   "execution_count": 307,
   "id": "9b6d04b2",
   "metadata": {},
   "outputs": [
    {
     "data": {
      "text/html": [
       "<div>\n",
       "<style scoped>\n",
       "    .dataframe tbody tr th:only-of-type {\n",
       "        vertical-align: middle;\n",
       "    }\n",
       "\n",
       "    .dataframe tbody tr th {\n",
       "        vertical-align: top;\n",
       "    }\n",
       "\n",
       "    .dataframe thead th {\n",
       "        text-align: right;\n",
       "    }\n",
       "</style>\n",
       "<table border=\"1\" class=\"dataframe\">\n",
       "  <thead>\n",
       "    <tr style=\"text-align: right;\">\n",
       "      <th></th>\n",
       "      <th>customerID</th>\n",
       "      <th>productID</th>\n",
       "      <th>amount</th>\n",
       "      <th>Sdate</th>\n",
       "    </tr>\n",
       "  </thead>\n",
       "  <tbody>\n",
       "    <tr>\n",
       "      <th>customerID</th>\n",
       "      <td>1.000000</td>\n",
       "      <td>0.004311</td>\n",
       "      <td>-0.108155</td>\n",
       "      <td>0.036962</td>\n",
       "    </tr>\n",
       "    <tr>\n",
       "      <th>productID</th>\n",
       "      <td>0.004311</td>\n",
       "      <td>1.000000</td>\n",
       "      <td>0.055901</td>\n",
       "      <td>0.030719</td>\n",
       "    </tr>\n",
       "    <tr>\n",
       "      <th>amount</th>\n",
       "      <td>-0.108155</td>\n",
       "      <td>0.055901</td>\n",
       "      <td>1.000000</td>\n",
       "      <td>0.008560</td>\n",
       "    </tr>\n",
       "    <tr>\n",
       "      <th>Sdate</th>\n",
       "      <td>0.036962</td>\n",
       "      <td>0.030719</td>\n",
       "      <td>0.008560</td>\n",
       "      <td>1.000000</td>\n",
       "    </tr>\n",
       "  </tbody>\n",
       "</table>\n",
       "</div>"
      ],
      "text/plain": [
       "            customerID  productID    amount     Sdate\n",
       "customerID    1.000000   0.004311 -0.108155  0.036962\n",
       "productID     0.004311   1.000000  0.055901  0.030719\n",
       "amount       -0.108155   0.055901  1.000000  0.008560\n",
       "Sdate         0.036962   0.030719  0.008560  1.000000"
      ]
     },
     "execution_count": 307,
     "metadata": {},
     "output_type": "execute_result"
    }
   ],
   "source": [
    "corr2=sales.corr()\n",
    "corr2"
   ]
  },
  {
   "cell_type": "markdown",
   "id": "314c7117",
   "metadata": {},
   "source": [
    "#### Display correlation matrix in heatmap"
   ]
  },
  {
   "cell_type": "code",
   "execution_count": 308,
   "id": "f8b0df24",
   "metadata": {},
   "outputs": [
    {
     "data": {
      "text/plain": [
       "<AxesSubplot:>"
      ]
     },
     "execution_count": 308,
     "metadata": {},
     "output_type": "execute_result"
    },
    {
     "data": {
      "image/png": "[encoded data removed]",
      "text/plain": [
       "<Figure size 432x288 with 2 Axes>"
      ]
     },
     "metadata": {
      "needs_background": "light"
     },
     "output_type": "display_data"
    }
   ],
   "source": [
    "sns.heatmap(corr,annot=True,cmap='coolwarm')"
   ]
  },
  {
   "cell_type": "markdown",
   "id": "055ad6b2",
   "metadata": {},
   "source": [
    "##### From the above output, we can conclude and note that:\n",
    "    - When one variable increases as the other increases the \n",
    "    correlation is positive.\n",
    "    -  Complete correlation between two variables is expressed by either + 1 or -1.\n",
    "    -when one decreases as the other increases it is negative. \n",
    "    - Complete absence of correlation is represented by 0. "
   ]
  },
  {
   "cell_type": "markdown",
   "id": "abf05deb",
   "metadata": {},
   "source": [
    "## Histogram"
   ]
  },
  {
   "cell_type": "code",
   "execution_count": 309,
   "id": "bcd82396",
   "metadata": {},
   "outputs": [
    {
     "data": {
      "image/png": "[encoded data removed]",
      "text/plain": [
       "<Figure size 432x288 with 4 Axes>"
      ]
     },
     "metadata": {
      "needs_background": "light"
     },
     "output_type": "display_data"
    }
   ],
   "source": [
    "sales.hist()\n",
    "plt.subplots_adjust(bottom = 0.1, right = 0.9, top = 0.9, wspace = 1, hspace = 1)"
   ]
  },
  {
   "cell_type": "markdown",
   "id": "dcc7bad5",
   "metadata": {},
   "source": [
    "## Density Plot"
   ]
  },
  {
   "cell_type": "code",
   "execution_count": 310,
   "id": "58b62d54",
   "metadata": {},
   "outputs": [
    {
     "data": {
      "image/png": "[encoded data removed]",
      "text/plain": [
       "<Figure size 432x288 with 9 Axes>"
      ]
     },
     "metadata": {
      "needs_background": "light"
     },
     "output_type": "display_data"
    }
   ],
   "source": [
    "customers.plot(kind='density',subplots=True,layout=(3,3),sharex=False)\n",
    "plt.subplots_adjust(bottom = 0.1, right = 0.9, top = 0.9, wspace = 1, hspace = 1)"
   ]
  }
 ],
 "metadata": {
  "interpreter": {
   "hash": "7d04c2ccdc77879c44c0e38a475c5c944666b751d27f26244a0b0bd35fcecd56"
  },
  "kernelspec": {
   "display_name": "Python 3 (ipykernel)",
   "language": "python",
   "name": "python3"
  },
  "language_info": {
   "codemirror_mode": {
    "name": "ipython",
    "version": 3
   },
   "file_extension": ".py",
   "mimetype": "text/x-python",
   "name": "python",
   "nbconvert_exporter": "python",
   "pygments_lexer": "ipython3",
   "version": "3.9.12"
  }
 },
 "nbformat": 4,
 "nbformat_minor": 5
}
